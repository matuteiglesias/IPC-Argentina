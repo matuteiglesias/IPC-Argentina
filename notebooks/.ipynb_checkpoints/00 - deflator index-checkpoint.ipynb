{
 "cells": [
  {
   "cell_type": "code",
   "execution_count": 1,
   "metadata": {},
   "outputs": [],
   "source": [
    "import pandas as pd\n",
    "import matplotlib.pyplot as plt\n",
    "%matplotlib inline\n",
    "\n",
    "import numpy as np"
   ]
  },
  {
   "cell_type": "markdown",
   "metadata": {},
   "source": [
    "## Carga de series de tiempo de IPC Provinciales\n",
    "\n",
    "### Extraemos las series de tiempo de indices de precios (nivel general)\n"
   ]
  },
  {
   "cell_type": "markdown",
   "metadata": {},
   "source": [
    "   - San Luis\n",
    "   \n",
    "   https://www.ieric.org.ar/wp-content/uploads/AAAA/MM/IPC-Prov-San-Luis.xlsx\n",
    "   \n",
    "   Todos los meses cambia el url del archivo, por lo cual primero necesitamos averiguar el URL actual para el archivo IPC-Prov-San-Luis.xlsx."
   ]
  },
  {
   "cell_type": "code",
   "execution_count": 2,
   "metadata": {},
   "outputs": [
    {
     "name": "stdout",
     "output_type": "stream",
     "text": [
      "Encontrado el URL: https://www.ieric.org.ar/wp-content/uploads/2022/07/IPC-Prov-San-Luis.xlsx\n"
     ]
    }
   ],
   "source": [
    "# Pagina de estadisticas de San Luis\n",
    "url = 'https://www.ieric.org.ar/series_estadisticas/san-luis/'\n",
    "\n",
    "import bs4 as bs\n",
    "import requests\n",
    "\n",
    "sauce = requests.get(url)\n",
    "soup = bs.BeautifulSoup(sauce.content,'html.parser')\n",
    "\n",
    "for a in soup.find_all('a', href=True):\n",
    "    if 'IPC-Prov-San-Luis.xlsx' in a['href']:\n",
    "        url = a['href'] # Resultado\n",
    "        print(\"Encontrado el URL:\", url)\n",
    "        "
   ]
  },
  {
   "cell_type": "code",
   "execution_count": 3,
   "metadata": {},
   "outputs": [
    {
     "data": {
      "text/html": [
       "<div>\n",
       "<style scoped>\n",
       "    .dataframe tbody tr th:only-of-type {\n",
       "        vertical-align: middle;\n",
       "    }\n",
       "\n",
       "    .dataframe tbody tr th {\n",
       "        vertical-align: top;\n",
       "    }\n",
       "\n",
       "    .dataframe thead th {\n",
       "        text-align: right;\n",
       "    }\n",
       "</style>\n",
       "<table border=\"1\" class=\"dataframe\">\n",
       "  <thead>\n",
       "    <tr style=\"text-align: right;\">\n",
       "      <th></th>\n",
       "      <th>ipc_SanLuis</th>\n",
       "    </tr>\n",
       "    <tr>\n",
       "      <th>indice_tiempo</th>\n",
       "      <th></th>\n",
       "    </tr>\n",
       "  </thead>\n",
       "  <tbody>\n",
       "    <tr>\n",
       "      <th>2022-02-01</th>\n",
       "      <td>5.893104</td>\n",
       "    </tr>\n",
       "    <tr>\n",
       "      <th>2022-03-01</th>\n",
       "      <td>6.804654</td>\n",
       "    </tr>\n",
       "    <tr>\n",
       "      <th>2022-04-01</th>\n",
       "      <td>5.113419</td>\n",
       "    </tr>\n",
       "    <tr>\n",
       "      <th>2022-05-01</th>\n",
       "      <td>5.566346</td>\n",
       "    </tr>\n",
       "    <tr>\n",
       "      <th>2022-06-01</th>\n",
       "      <td>4.313271</td>\n",
       "    </tr>\n",
       "  </tbody>\n",
       "</table>\n",
       "</div>"
      ],
      "text/plain": [
       "               ipc_SanLuis\n",
       "indice_tiempo             \n",
       "2022-02-01        5.893104\n",
       "2022-03-01        6.804654\n",
       "2022-04-01        5.113419\n",
       "2022-05-01        5.566346\n",
       "2022-06-01        4.313271"
      ]
     },
     "execution_count": 3,
     "metadata": {},
     "output_type": "execute_result"
    }
   ],
   "source": [
    "## IPC San Luis\n",
    "# url = 'https://www.ieric.org.ar/wp-content/uploads/2021/09/IPC-Prov-San-Luis.xlsx'\n",
    "data = pd.read_excel(url, sheet_name = 'Serie', skiprows=3).dropna(subset = ['Nivel General'])\n",
    "\n",
    "ipc_SanLuis = data[['Periodo', 'Nivel General']]\n",
    "ipc_SanLuis.columns = ['indice_tiempo', 'ipc_SanLuis']\n",
    "ipc_SanLuis.index = pd.to_datetime(ipc_SanLuis['indice_tiempo']);\n",
    "ipc_SanLuis = ipc_SanLuis[['ipc_SanLuis']].astype(float)\n",
    "\n",
    "100*ipc_SanLuis.pct_change().tail()"
   ]
  },
  {
   "cell_type": "markdown",
   "metadata": {},
   "source": [
    "   - Cordoba\n",
    "   \n",
    "   https://datosestadistica.cba.gov.ar/dataset/fedc5285-5517-41aa-9095-bb62c6dbc485/resource/2b4a7c60-1c8a-45b1-be8f-2bd59bfe2364/download/ipc-cba-enero-.xlsx\n",
    "   \n",
    "   "
   ]
  },
  {
   "cell_type": "code",
   "execution_count": 4,
   "metadata": {},
   "outputs": [
    {
     "data": {
      "text/html": [
       "<div>\n",
       "<style scoped>\n",
       "    .dataframe tbody tr th:only-of-type {\n",
       "        vertical-align: middle;\n",
       "    }\n",
       "\n",
       "    .dataframe tbody tr th {\n",
       "        vertical-align: top;\n",
       "    }\n",
       "\n",
       "    .dataframe thead th {\n",
       "        text-align: right;\n",
       "    }\n",
       "</style>\n",
       "<table border=\"1\" class=\"dataframe\">\n",
       "  <thead>\n",
       "    <tr style=\"text-align: right;\">\n",
       "      <th></th>\n",
       "      <th>ipc_Cordoba</th>\n",
       "    </tr>\n",
       "    <tr>\n",
       "      <th>indice_tiempo</th>\n",
       "      <th></th>\n",
       "    </tr>\n",
       "  </thead>\n",
       "  <tbody>\n",
       "    <tr>\n",
       "      <th>2022-02-01</th>\n",
       "      <td>4.715389</td>\n",
       "    </tr>\n",
       "    <tr>\n",
       "      <th>2022-03-01</th>\n",
       "      <td>6.914990</td>\n",
       "    </tr>\n",
       "    <tr>\n",
       "      <th>2022-04-01</th>\n",
       "      <td>5.275596</td>\n",
       "    </tr>\n",
       "    <tr>\n",
       "      <th>2022-05-01</th>\n",
       "      <td>5.004190</td>\n",
       "    </tr>\n",
       "    <tr>\n",
       "      <th>2022-06-01</th>\n",
       "      <td>5.130446</td>\n",
       "    </tr>\n",
       "  </tbody>\n",
       "</table>\n",
       "</div>"
      ],
      "text/plain": [
       "               ipc_Cordoba\n",
       "indice_tiempo             \n",
       "2022-02-01        4.715389\n",
       "2022-03-01        6.914990\n",
       "2022-04-01        5.275596\n",
       "2022-05-01        5.004190\n",
       "2022-06-01        5.130446"
      ]
     },
     "execution_count": 4,
     "metadata": {},
     "output_type": "execute_result"
    }
   ],
   "source": [
    "## IPC Cordoba\n",
    "\n",
    "url = 'https://datosestadistica.cba.gov.ar/dataset/fedc5285-5517-41aa-9095-bb62c6dbc485/resource/2b4a7c60-1c8a-45b1-be8f-2bd59bfe2364/download/ipc-cba-enero-.xlsx'\n",
    "data = pd.read_excel(url, sheet_name = 'IPC-Cba base 2014', skiprows=5, index_col = [0, 1, 2]\n",
    "                    ).dropna().T\n",
    "\n",
    "ipc_Cordoba = data[0]['Código'].reset_index()\n",
    "ipc_Cordoba.columns = ['indice_tiempo', 'ipc_Cordoba']\n",
    "ipc_Cordoba.index = pd.to_datetime(ipc_Cordoba['indice_tiempo']);\n",
    "ipc_Cordoba = ipc_Cordoba[['ipc_Cordoba']].astype(float)\n",
    "\n",
    "100*ipc_Cordoba.pct_change().tail()"
   ]
  },
  {
   "cell_type": "markdown",
   "metadata": {},
   "source": [
    "\n",
    "   - CABA\n",
    "   \n",
    "   https://www.estadisticaciudad.gob.ar/eyc/wp-content/uploads/2019/05/Principales_aperturas_indices.xlsx\n",
    "   \n",
    "   "
   ]
  },
  {
   "cell_type": "code",
   "execution_count": 5,
   "metadata": {
    "scrolled": false
   },
   "outputs": [
    {
     "data": {
      "text/html": [
       "<div>\n",
       "<style scoped>\n",
       "    .dataframe tbody tr th:only-of-type {\n",
       "        vertical-align: middle;\n",
       "    }\n",
       "\n",
       "    .dataframe tbody tr th {\n",
       "        vertical-align: top;\n",
       "    }\n",
       "\n",
       "    .dataframe thead th {\n",
       "        text-align: right;\n",
       "    }\n",
       "</style>\n",
       "<table border=\"1\" class=\"dataframe\">\n",
       "  <thead>\n",
       "    <tr style=\"text-align: right;\">\n",
       "      <th></th>\n",
       "      <th>ipc_CABA</th>\n",
       "    </tr>\n",
       "    <tr>\n",
       "      <th>indice_tiempo</th>\n",
       "      <th></th>\n",
       "    </tr>\n",
       "  </thead>\n",
       "  <tbody>\n",
       "    <tr>\n",
       "      <th>2021-09-01</th>\n",
       "      <td>3.385907</td>\n",
       "    </tr>\n",
       "    <tr>\n",
       "      <th>2021-10-01</th>\n",
       "      <td>3.691760</td>\n",
       "    </tr>\n",
       "    <tr>\n",
       "      <th>2021-11-01</th>\n",
       "      <td>2.509066</td>\n",
       "    </tr>\n",
       "    <tr>\n",
       "      <th>2021-12-01</th>\n",
       "      <td>3.840048</td>\n",
       "    </tr>\n",
       "    <tr>\n",
       "      <th>2022-01-01</th>\n",
       "      <td>4.026110</td>\n",
       "    </tr>\n",
       "  </tbody>\n",
       "</table>\n",
       "</div>"
      ],
      "text/plain": [
       "               ipc_CABA\n",
       "indice_tiempo          \n",
       "2021-09-01     3.385907\n",
       "2021-10-01     3.691760\n",
       "2021-11-01     2.509066\n",
       "2021-12-01     3.840048\n",
       "2022-01-01     4.026110"
      ]
     },
     "execution_count": 5,
     "metadata": {},
     "output_type": "execute_result"
    }
   ],
   "source": [
    "## IPC CABA\n",
    "url = 'https://www.estadisticaciudad.gob.ar/eyc/wp-content/uploads/2022/02/Principales_aperturas_indices.xlsx'\n",
    "data = pd.read_excel(url, sheet_name = 'Principales_aperturas_indices', skiprows=2, index_col = [0]\n",
    "                    ).dropna().T.iloc[:-1]\n",
    "\n",
    "ipc_CABA = data[['Nivel General']].reset_index()\n",
    "ipc_CABA.columns = ['indice_tiempo', 'ipc_CABA']\n",
    "ipc_CABA.index = pd.to_datetime(ipc_CABA['indice_tiempo']);\n",
    "ipc_CABA = ipc_CABA[['ipc_CABA']].astype(float)\n",
    "\n",
    "100*ipc_CABA.pct_change().tail()"
   ]
  },
  {
   "cell_type": "markdown",
   "metadata": {},
   "source": [
    "   - INDEC I (- feb 2007)\n",
    "   \n",
    "   https://www.indec.gob.ar/ftp/nuevaweb/cuadros/10/sh_ipc_2008.xls\n"
   ]
  },
  {
   "cell_type": "code",
   "execution_count": 6,
   "metadata": {},
   "outputs": [
    {
     "data": {
      "text/html": [
       "<div>\n",
       "<style scoped>\n",
       "    .dataframe tbody tr th:only-of-type {\n",
       "        vertical-align: middle;\n",
       "    }\n",
       "\n",
       "    .dataframe tbody tr th {\n",
       "        vertical-align: top;\n",
       "    }\n",
       "\n",
       "    .dataframe thead th {\n",
       "        text-align: right;\n",
       "    }\n",
       "</style>\n",
       "<table border=\"1\" class=\"dataframe\">\n",
       "  <thead>\n",
       "    <tr style=\"text-align: right;\">\n",
       "      <th></th>\n",
       "      <th>ipc_INDEC1</th>\n",
       "    </tr>\n",
       "  </thead>\n",
       "  <tbody>\n",
       "    <tr>\n",
       "      <th>2006-10-01</th>\n",
       "      <td>0.855908</td>\n",
       "    </tr>\n",
       "    <tr>\n",
       "      <th>2006-11-01</th>\n",
       "      <td>0.707660</td>\n",
       "    </tr>\n",
       "    <tr>\n",
       "      <th>2006-12-01</th>\n",
       "      <td>0.981203</td>\n",
       "    </tr>\n",
       "    <tr>\n",
       "      <th>2007-01-01</th>\n",
       "      <td>1.144288</td>\n",
       "    </tr>\n",
       "    <tr>\n",
       "      <th>2007-02-01</th>\n",
       "      <td>0.301854</td>\n",
       "    </tr>\n",
       "  </tbody>\n",
       "</table>\n",
       "</div>"
      ],
      "text/plain": [
       "            ipc_INDEC1\n",
       "2006-10-01    0.855908\n",
       "2006-11-01    0.707660\n",
       "2006-12-01    0.981203\n",
       "2007-01-01    1.144288\n",
       "2007-02-01    0.301854"
      ]
     },
     "execution_count": 6,
     "metadata": {},
     "output_type": "execute_result"
    }
   ],
   "source": [
    "## IPC Indec 1\n",
    "url = 'https://www.indec.gob.ar/ftp/nuevaweb/cuadros/10/sh_ipc_2008.xls'\n",
    "data = pd.read_excel(url, sheet_name = 'Serie Histórica', skiprows=4, index_col = [0, 1]\n",
    "                    ).dropna(subset = ['Nivel general'])\n",
    "\n",
    "ipc_INDEC1 = data[['Nivel general']].iloc[:-1].reset_index()\n",
    "\n",
    "ipc_INDEC1.columns = ['year', 'month', 'ipc_INDEC1']; ipc_INDEC1['day'] = 1\n",
    "ipc_INDEC1.index = pd.to_datetime(ipc_INDEC1[['year', 'month', 'day']])\n",
    "ipc_INDEC1['ipc_INDEC1'] = ipc_INDEC1['ipc_INDEC1'].astype(str).str.replace(',', '.')\n",
    "ipc_INDEC1 = ipc_INDEC1[['ipc_INDEC1']].astype(float)\n",
    "ipc_INDEC1 = ipc_INDEC1.loc['2000':'2007-02']\n",
    "\n",
    "100*ipc_INDEC1.pct_change().tail()\n",
    "\n",
    "# pip install xlrd==2.0.1 "
   ]
  },
  {
   "cell_type": "code",
   "execution_count": 7,
   "metadata": {},
   "outputs": [],
   "source": [
    "# ## IPC Indec 2\n",
    "# url = 'https://www.indec.gob.ar/ftp/cuadros/economia/sh_ipcnu.xls'\n",
    "# data = pd.read_excel(url, sheet_name = 'Serie Histórica', skiprows=4, index_col = [0, 1]\n",
    "#                     ).dropna(subset = ['Nivel general'])\n",
    "\n",
    "# ipc_INDEC2 = data[['Nivel general']].reset_index()\n",
    "\n",
    "# ipc_INDEC2.columns = ['year', 'month', 'ipc_INDEC2']; ipc_INDEC2['day'] = 1\n",
    "# ipc_INDEC2.index = pd.to_datetime(ipc_INDEC2[['year', 'month', 'day']].astype(int))\n",
    "# ipc_INDEC2 = ipc_INDEC2[['ipc_INDEC2']].astype(float)\n",
    "\n",
    "# ipc_INDEC2.tail()"
   ]
  },
  {
   "cell_type": "markdown",
   "metadata": {},
   "source": [
    "   - INDEC II (dic 2016 - )\n",
    "   \n",
    "   https://infra.datos.gob.ar/catalog/sspm/dataset/145/distribution/145.3/download/indice-precios-al-consumidor-nivel-general-base-diciembre-2016-mensual.csv"
   ]
  },
  {
   "cell_type": "code",
   "execution_count": 8,
   "metadata": {},
   "outputs": [
    {
     "data": {
      "text/html": [
       "<div>\n",
       "<style scoped>\n",
       "    .dataframe tbody tr th:only-of-type {\n",
       "        vertical-align: middle;\n",
       "    }\n",
       "\n",
       "    .dataframe tbody tr th {\n",
       "        vertical-align: top;\n",
       "    }\n",
       "\n",
       "    .dataframe thead th {\n",
       "        text-align: right;\n",
       "    }\n",
       "</style>\n",
       "<table border=\"1\" class=\"dataframe\">\n",
       "  <thead>\n",
       "    <tr style=\"text-align: right;\">\n",
       "      <th></th>\n",
       "      <th>ipc_INDEC3</th>\n",
       "    </tr>\n",
       "    <tr>\n",
       "      <th>indice_tiempo</th>\n",
       "      <th></th>\n",
       "    </tr>\n",
       "  </thead>\n",
       "  <tbody>\n",
       "    <tr>\n",
       "      <th>2022-02-01</th>\n",
       "      <td>4.694366</td>\n",
       "    </tr>\n",
       "    <tr>\n",
       "      <th>2022-03-01</th>\n",
       "      <td>6.728798</td>\n",
       "    </tr>\n",
       "    <tr>\n",
       "      <th>2022-04-01</th>\n",
       "      <td>6.041417</td>\n",
       "    </tr>\n",
       "    <tr>\n",
       "      <th>2022-05-01</th>\n",
       "      <td>5.056075</td>\n",
       "    </tr>\n",
       "    <tr>\n",
       "      <th>2022-06-01</th>\n",
       "      <td>5.295221</td>\n",
       "    </tr>\n",
       "  </tbody>\n",
       "</table>\n",
       "</div>"
      ],
      "text/plain": [
       "               ipc_INDEC3\n",
       "indice_tiempo            \n",
       "2022-02-01       4.694366\n",
       "2022-03-01       6.728798\n",
       "2022-04-01       6.041417\n",
       "2022-05-01       5.056075\n",
       "2022-06-01       5.295221"
      ]
     },
     "execution_count": 8,
     "metadata": {},
     "output_type": "execute_result"
    }
   ],
   "source": [
    "## IPC Indec 3\n",
    "url = 'https://infra.datos.gob.ar/catalog/sspm/dataset/145/distribution/145.3/download/indice-precios-al-consumidor-nivel-general-base-diciembre-2016-mensual.csv'\n",
    "data = pd.read_csv(url)#.astype(float)\n",
    "\n",
    "ipc_INDEC3 = data[['indice_tiempo', 'ipc_ng_nacional']]\n",
    "ipc_INDEC3.columns = ['indice_tiempo', 'ipc_INDEC3'];\n",
    "ipc_INDEC3.index = pd.to_datetime(ipc_INDEC3['indice_tiempo'], format = '%Y-%m-%d')\n",
    "ipc_INDEC3 = ipc_INDEC3[['ipc_INDEC3']].astype(float)\n",
    "\n",
    "100*ipc_INDEC3.pct_change().tail()"
   ]
  },
  {
   "cell_type": "markdown",
   "metadata": {},
   "source": [
    "## Las series se promedian en cada mes para dar un solo indice:"
   ]
  },
  {
   "cell_type": "code",
   "execution_count": 9,
   "metadata": {},
   "outputs": [],
   "source": [
    "## Concatenar series:\n",
    "\n",
    "ipc = pd.concat([ipc_INDEC3, ipc_CABA, ipc_Cordoba, ipc_SanLuis, ipc_INDEC1], axis = 1)\n",
    "mean_pct = 100*ipc.pct_change().replace(0, np.nan).mean(1)\n",
    "ipc = np.log10(ipc)\n",
    "\n",
    "## Offset para alinear los indices de distintas series:\n",
    "offset = [0]\n",
    "for i, column in enumerate(ipc.columns[1:]):\n",
    "    info = ipc.iloc[:, [i + 1, i]].dropna()\n",
    "    off = info.diff(1, axis = 1).mean()[1]\n",
    "    offset += [off]\n",
    "    \n",
    "offset = np.cumsum(np.array(offset))\n",
    "ipc_union = ipc + offset"
   ]
  },
  {
   "cell_type": "code",
   "execution_count": 10,
   "metadata": {},
   "outputs": [
    {
     "name": "stderr",
     "output_type": "stream",
     "text": [
      "<ipython-input-10-3fcc0b272bac>:2: FutureWarning: Indexing a DataFrame with a datetimelike index using a single string to slice the rows, like `frame[string]`, is deprecated and will be removed in a future version. Use `frame.loc[string]` instead.\n",
      "  fechanivel100 = ipc_union_m['2016-01'].values\n"
     ]
    },
    {
     "data": {
      "text/html": [
       "<div>\n",
       "<style scoped>\n",
       "    .dataframe tbody tr th:only-of-type {\n",
       "        vertical-align: middle;\n",
       "    }\n",
       "\n",
       "    .dataframe tbody tr th {\n",
       "        vertical-align: top;\n",
       "    }\n",
       "\n",
       "    .dataframe thead th {\n",
       "        text-align: right;\n",
       "    }\n",
       "</style>\n",
       "<table border=\"1\" class=\"dataframe\">\n",
       "  <thead>\n",
       "    <tr style=\"text-align: right;\">\n",
       "      <th></th>\n",
       "      <th>log_index</th>\n",
       "      <th>index</th>\n",
       "      <th>log_index_diff</th>\n",
       "      <th>pct_m</th>\n",
       "    </tr>\n",
       "  </thead>\n",
       "  <tbody>\n",
       "    <tr>\n",
       "      <th>2000-01-01</th>\n",
       "      <td>-1.185821</td>\n",
       "      <td>6.518974</td>\n",
       "      <td>NaN</td>\n",
       "      <td>NaN</td>\n",
       "    </tr>\n",
       "    <tr>\n",
       "      <th>2000-02-01</th>\n",
       "      <td>-1.185803</td>\n",
       "      <td>6.519241</td>\n",
       "      <td>0.000018</td>\n",
       "      <td>0.004096</td>\n",
       "    </tr>\n",
       "    <tr>\n",
       "      <th>2000-03-01</th>\n",
       "      <td>-1.188104</td>\n",
       "      <td>6.484796</td>\n",
       "      <td>-0.002301</td>\n",
       "      <td>-0.528349</td>\n",
       "    </tr>\n",
       "    <tr>\n",
       "      <th>2000-04-01</th>\n",
       "      <td>-1.188592</td>\n",
       "      <td>6.477505</td>\n",
       "      <td>-0.000489</td>\n",
       "      <td>-0.112443</td>\n",
       "    </tr>\n",
       "    <tr>\n",
       "      <th>2000-05-01</th>\n",
       "      <td>-1.190284</td>\n",
       "      <td>6.452327</td>\n",
       "      <td>-0.001691</td>\n",
       "      <td>-0.388699</td>\n",
       "    </tr>\n",
       "    <tr>\n",
       "      <th>...</th>\n",
       "      <td>...</td>\n",
       "      <td>...</td>\n",
       "      <td>...</td>\n",
       "      <td>...</td>\n",
       "    </tr>\n",
       "    <tr>\n",
       "      <th>2022-02-01</th>\n",
       "      <td>0.920065</td>\n",
       "      <td>831.888789</td>\n",
       "      <td>0.027573</td>\n",
       "      <td>5.100953</td>\n",
       "    </tr>\n",
       "    <tr>\n",
       "      <th>2022-03-01</th>\n",
       "      <td>0.948702</td>\n",
       "      <td>888.591327</td>\n",
       "      <td>0.028637</td>\n",
       "      <td>6.816147</td>\n",
       "    </tr>\n",
       "    <tr>\n",
       "      <th>2022-04-01</th>\n",
       "      <td>0.971856</td>\n",
       "      <td>937.250906</td>\n",
       "      <td>0.023154</td>\n",
       "      <td>5.476811</td>\n",
       "    </tr>\n",
       "    <tr>\n",
       "      <th>2022-05-01</th>\n",
       "      <td>0.993907</td>\n",
       "      <td>986.068228</td>\n",
       "      <td>0.022051</td>\n",
       "      <td>5.208870</td>\n",
       "    </tr>\n",
       "    <tr>\n",
       "      <th>2022-06-01</th>\n",
       "      <td>1.014733</td>\n",
       "      <td>1034.504881</td>\n",
       "      <td>0.020826</td>\n",
       "      <td>4.912980</td>\n",
       "    </tr>\n",
       "  </tbody>\n",
       "</table>\n",
       "<p>270 rows × 4 columns</p>\n",
       "</div>"
      ],
      "text/plain": [
       "            log_index        index  log_index_diff     pct_m\n",
       "2000-01-01  -1.185821     6.518974             NaN       NaN\n",
       "2000-02-01  -1.185803     6.519241        0.000018  0.004096\n",
       "2000-03-01  -1.188104     6.484796       -0.002301 -0.528349\n",
       "2000-04-01  -1.188592     6.477505       -0.000489 -0.112443\n",
       "2000-05-01  -1.190284     6.452327       -0.001691 -0.388699\n",
       "...               ...          ...             ...       ...\n",
       "2022-02-01   0.920065   831.888789        0.027573  5.100953\n",
       "2022-03-01   0.948702   888.591327        0.028637  6.816147\n",
       "2022-04-01   0.971856   937.250906        0.023154  5.476811\n",
       "2022-05-01   0.993907   986.068228        0.022051  5.208870\n",
       "2022-06-01   1.014733  1034.504881        0.020826  4.912980\n",
       "\n",
       "[270 rows x 4 columns]"
      ]
     },
     "execution_count": 10,
     "metadata": {},
     "output_type": "execute_result"
    }
   ],
   "source": [
    "ipc_union_m = pd.DataFrame(ipc_union.mean(1), columns = ['log_index'])\n",
    "fechanivel100 = ipc_union_m['2016-01'].values\n",
    "ipc_union_m = ipc_union_m - fechanivel100\n",
    "ipc_union_m['index'] = 100*10**ipc_union_m.log_index\n",
    "ipc_union_m['log_index_diff'] = ipc_union_m.log_index.diff(1)\n",
    "# ipc_union_m['pct_m'] = 100*ipc_union_m['index'].pct_change() # Sensible a ciertos errores numericos\n",
    "ipc_union_m['pct_m'] = mean_pct\n",
    "\n",
    "ipc_union_m"
   ]
  },
  {
   "cell_type": "code",
   "execution_count": 11,
   "metadata": {},
   "outputs": [],
   "source": [
    "import os\n",
    "if not os.path.exists('./../figuras/'):\n",
    "    os.mkdir('./../figuras/')"
   ]
  },
  {
   "cell_type": "code",
   "execution_count": 12,
   "metadata": {},
   "outputs": [
    {
     "data": {
      "image/png": "[encoded data removed]",
      "text/plain": [
       "<Figure size 864x432 with 1 Axes>"
      ]
     },
     "metadata": {
      "needs_background": "light"
     },
     "output_type": "display_data"
    }
   ],
   "source": [
    "fig, ax = plt.subplots(1, figsize = (12, 6))\n",
    "\n",
    "ax.set_title('Indice de Precios a Consumidor.\\n')\n",
    "ax.set_ylabel('IPC [log]')\n",
    "\n",
    "(ipc_union - fechanivel100[0][0]).plot(marker = '.', alpha = .2, ax = ax)\n",
    "ipc_union_m['log_index'].plot(color = 'k', lw = 1, ax = ax)\n",
    "# (ipc_union_m.pct_m).plot(color = 'k', lw = 1, ax = ax)\n",
    "\n",
    "plt.grid(True, color = '.8', linestyle = '--')\n",
    "ax.grid(which='minor', color='.8', linestyle=':', linewidth=0.5)\n",
    "ax.minorticks_on()\n",
    "plt.show()\n",
    "\n",
    "# offset"
   ]
  },
  {
   "cell_type": "code",
   "execution_count": 13,
   "metadata": {},
   "outputs": [
    {
     "data": {
      "image/png": "[encoded data removed]",
      "text/plain": [
       "<Figure size 864x432 with 1 Axes>"
      ]
     },
     "metadata": {
      "needs_background": "light"
     },
     "output_type": "display_data"
    }
   ],
   "source": [
    "fig, ax = plt.subplots(1, figsize = (12, 6))\n",
    "\n",
    "ax.set_title('Inflacion Mensual.\\nIndices provinciales e INDEC vs indice promedio.')\n",
    "ax.set_ylabel('Inflacion Mensual [%]')\n",
    "\n",
    "(100*(10**ipc_union).pct_change().replace(0, np.nan)).plot(marker = '.', alpha = .2, ax = ax)\n",
    "\n",
    "(ipc_union_m.pct_m).plot(color = 'k', lw = 1, ax = ax)\n",
    "\n",
    "plt.grid(True, color = '.8', linestyle = '--')\n",
    "ax.grid(which='minor', color='.8', linestyle=':', linewidth=0.5)\n",
    "ax.minorticks_on()\n",
    "plt.savefig('./../figuras/figura2.png')\n",
    "plt.show()"
   ]
  },
  {
   "cell_type": "markdown",
   "metadata": {},
   "source": [
    "### Completo meses presente\n",
    "\n",
    "La inflacion en los meses del presente se estima como la de los ultimos 6 meses para los cuales hay informacion"
   ]
  },
  {
   "cell_type": "code",
   "execution_count": 14,
   "metadata": {},
   "outputs": [
    {
     "data": {
      "text/html": [
       "<div>\n",
       "<style scoped>\n",
       "    .dataframe tbody tr th:only-of-type {\n",
       "        vertical-align: middle;\n",
       "    }\n",
       "\n",
       "    .dataframe tbody tr th {\n",
       "        vertical-align: top;\n",
       "    }\n",
       "\n",
       "    .dataframe thead th {\n",
       "        text-align: right;\n",
       "    }\n",
       "</style>\n",
       "<table border=\"1\" class=\"dataframe\">\n",
       "  <thead>\n",
       "    <tr style=\"text-align: right;\">\n",
       "      <th></th>\n",
       "      <th>log_index</th>\n",
       "      <th>index</th>\n",
       "      <th>log_index_diff</th>\n",
       "      <th>pct_m</th>\n",
       "    </tr>\n",
       "  </thead>\n",
       "  <tbody>\n",
       "    <tr>\n",
       "      <th>2022-03-01</th>\n",
       "      <td>0.948702</td>\n",
       "      <td>888.591327</td>\n",
       "      <td>0.028637</td>\n",
       "      <td>6.816147</td>\n",
       "    </tr>\n",
       "    <tr>\n",
       "      <th>2022-04-01</th>\n",
       "      <td>0.971856</td>\n",
       "      <td>937.250906</td>\n",
       "      <td>0.023154</td>\n",
       "      <td>5.476811</td>\n",
       "    </tr>\n",
       "    <tr>\n",
       "      <th>2022-05-01</th>\n",
       "      <td>0.993907</td>\n",
       "      <td>986.068228</td>\n",
       "      <td>0.022051</td>\n",
       "      <td>5.208870</td>\n",
       "    </tr>\n",
       "    <tr>\n",
       "      <th>2022-06-01</th>\n",
       "      <td>1.014733</td>\n",
       "      <td>1034.504881</td>\n",
       "      <td>0.020826</td>\n",
       "      <td>4.912980</td>\n",
       "    </tr>\n",
       "    <tr>\n",
       "      <th>2022-07-01</th>\n",
       "      <td>1.037851</td>\n",
       "      <td>1088.610298</td>\n",
       "      <td>0.023118</td>\n",
       "      <td>5.230078</td>\n",
       "    </tr>\n",
       "    <tr>\n",
       "      <th>2022-08-01</th>\n",
       "      <td>1.060969</td>\n",
       "      <td>1145.545470</td>\n",
       "      <td>0.023118</td>\n",
       "      <td>5.230078</td>\n",
       "    </tr>\n",
       "    <tr>\n",
       "      <th>2022-09-01</th>\n",
       "      <td>1.084087</td>\n",
       "      <td>1205.458397</td>\n",
       "      <td>0.023118</td>\n",
       "      <td>5.230078</td>\n",
       "    </tr>\n",
       "    <tr>\n",
       "      <th>2022-10-01</th>\n",
       "      <td>1.107205</td>\n",
       "      <td>1268.504816</td>\n",
       "      <td>0.023118</td>\n",
       "      <td>5.230078</td>\n",
       "    </tr>\n",
       "    <tr>\n",
       "      <th>2022-11-01</th>\n",
       "      <td>1.130323</td>\n",
       "      <td>1334.848613</td>\n",
       "      <td>0.023118</td>\n",
       "      <td>5.230078</td>\n",
       "    </tr>\n",
       "    <tr>\n",
       "      <th>2022-12-01</th>\n",
       "      <td>1.153441</td>\n",
       "      <td>1404.662242</td>\n",
       "      <td>0.023118</td>\n",
       "      <td>5.230078</td>\n",
       "    </tr>\n",
       "  </tbody>\n",
       "</table>\n",
       "</div>"
      ],
      "text/plain": [
       "            log_index        index  log_index_diff     pct_m\n",
       "2022-03-01   0.948702   888.591327        0.028637  6.816147\n",
       "2022-04-01   0.971856   937.250906        0.023154  5.476811\n",
       "2022-05-01   0.993907   986.068228        0.022051  5.208870\n",
       "2022-06-01   1.014733  1034.504881        0.020826  4.912980\n",
       "2022-07-01   1.037851  1088.610298        0.023118  5.230078\n",
       "2022-08-01   1.060969  1145.545470        0.023118  5.230078\n",
       "2022-09-01   1.084087  1205.458397        0.023118  5.230078\n",
       "2022-10-01   1.107205  1268.504816        0.023118  5.230078\n",
       "2022-11-01   1.130323  1334.848613        0.023118  5.230078\n",
       "2022-12-01   1.153441  1404.662242        0.023118  5.230078"
      ]
     },
     "execution_count": 14,
     "metadata": {},
     "output_type": "execute_result"
    }
   ],
   "source": [
    "ipc_tail = ipc_union_m.tail(6)\n",
    "tail_mean = ipc_tail.mean()\n",
    "\n",
    "meses_presente = pd.date_range(ipc_union_m.index[-1], \n",
    "              ipc_union_m.index[-1] + pd.DateOffset(months=6), freq = 'M') + pd.DateOffset(days=1)\n",
    "\n",
    "ipc_union_m_ = ipc_union_m.reindex(ipc_union.index.append(meses_presente))\n",
    "\n",
    "ipc_union_m_.iloc[-6:, 2] = tail_mean['log_index_diff']\n",
    "ipc_union_m_.iloc[-6:, 3] = tail_mean['pct_m']\n",
    "\n",
    "ipc_union_m_.iloc[-6:, 0] = ipc_union_m['log_index'].values[-1] + ipc_union_m_.tail(6)['log_index_diff'].cumsum().values\n",
    "ipc_union_m_.iloc[-6:, 1] = ipc_union_m['index'].values[-1] * (1 + ipc_union_m_.tail(6)['pct_m']/100).cumprod().values\n",
    "\n",
    "ipc_union_m_.tail(10)"
   ]
  },
  {
   "cell_type": "markdown",
   "metadata": {},
   "source": [
    "### Resampleo a frecuencia diaria y a frecuencia trimestral.\n",
    "\n",
    "Posibilidad de guardar los resultados."
   ]
  },
  {
   "cell_type": "code",
   "execution_count": 30,
   "metadata": {},
   "outputs": [
    {
     "data": {
      "text/html": [
       "<div>\n",
       "<style scoped>\n",
       "    .dataframe tbody tr th:only-of-type {\n",
       "        vertical-align: middle;\n",
       "    }\n",
       "\n",
       "    .dataframe tbody tr th {\n",
       "        vertical-align: top;\n",
       "    }\n",
       "\n",
       "    .dataframe thead th {\n",
       "        text-align: right;\n",
       "    }\n",
       "</style>\n",
       "<table border=\"1\" class=\"dataframe\">\n",
       "  <thead>\n",
       "    <tr style=\"text-align: right;\">\n",
       "      <th></th>\n",
       "      <th>log_index</th>\n",
       "      <th>index</th>\n",
       "    </tr>\n",
       "    <tr>\n",
       "      <th>d</th>\n",
       "      <th></th>\n",
       "      <th></th>\n",
       "    </tr>\n",
       "  </thead>\n",
       "  <tbody>\n",
       "    <tr>\n",
       "      <th>2022-11-27</th>\n",
       "      <td>1.150298</td>\n",
       "      <td>1394.983542</td>\n",
       "    </tr>\n",
       "    <tr>\n",
       "      <th>2022-11-28</th>\n",
       "      <td>1.151082</td>\n",
       "      <td>1397.392538</td>\n",
       "    </tr>\n",
       "    <tr>\n",
       "      <th>2022-11-29</th>\n",
       "      <td>1.151867</td>\n",
       "      <td>1399.808653</td>\n",
       "    </tr>\n",
       "    <tr>\n",
       "      <th>2022-11-30</th>\n",
       "      <td>1.152653</td>\n",
       "      <td>1402.231888</td>\n",
       "    </tr>\n",
       "    <tr>\n",
       "      <th>2022-12-01</th>\n",
       "      <td>1.153441</td>\n",
       "      <td>1404.662242</td>\n",
       "    </tr>\n",
       "  </tbody>\n",
       "</table>\n",
       "</div>"
      ],
      "text/plain": [
       "            log_index        index\n",
       "d                                 \n",
       "2022-11-27   1.150298  1394.983542\n",
       "2022-11-28   1.151082  1397.392538\n",
       "2022-11-29   1.151867  1399.808653\n",
       "2022-11-30   1.152653  1402.231888\n",
       "2022-12-01   1.153441  1404.662242"
      ]
     },
     "metadata": {},
     "output_type": "display_data"
    },
    {
     "data": {
      "text/html": [
       "<div>\n",
       "<style scoped>\n",
       "    .dataframe tbody tr th:only-of-type {\n",
       "        vertical-align: middle;\n",
       "    }\n",
       "\n",
       "    .dataframe tbody tr th {\n",
       "        vertical-align: top;\n",
       "    }\n",
       "\n",
       "    .dataframe thead th {\n",
       "        text-align: right;\n",
       "    }\n",
       "</style>\n",
       "<table border=\"1\" class=\"dataframe\">\n",
       "  <thead>\n",
       "    <tr style=\"text-align: right;\">\n",
       "      <th></th>\n",
       "      <th>index</th>\n",
       "    </tr>\n",
       "    <tr>\n",
       "      <th>Q</th>\n",
       "      <th></th>\n",
       "    </tr>\n",
       "  </thead>\n",
       "  <tbody>\n",
       "    <tr>\n",
       "      <th>2021-11-15</th>\n",
       "      <td>726.205378</td>\n",
       "    </tr>\n",
       "    <tr>\n",
       "      <th>2022-02-15</th>\n",
       "      <td>833.731411</td>\n",
       "    </tr>\n",
       "    <tr>\n",
       "      <th>2022-05-15</th>\n",
       "      <td>985.941339</td>\n",
       "    </tr>\n",
       "    <tr>\n",
       "      <th>2022-08-15</th>\n",
       "      <td>1146.538055</td>\n",
       "    </tr>\n",
       "    <tr>\n",
       "      <th>2022-11-15</th>\n",
       "      <td>1336.005224</td>\n",
       "    </tr>\n",
       "  </tbody>\n",
       "</table>\n",
       "</div>"
      ],
      "text/plain": [
       "                  index\n",
       "Q                      \n",
       "2021-11-15   726.205378\n",
       "2022-02-15   833.731411\n",
       "2022-05-15   985.941339\n",
       "2022-08-15  1146.538055\n",
       "2022-11-15  1336.005224"
      ]
     },
     "metadata": {},
     "output_type": "display_data"
    }
   ],
   "source": [
    "## Indice de precios Diario (Interpolador cuadratico)\n",
    "ipc_diario = ipc_union_m_[['log_index', 'index']].resample('1d').interpolate('quadratic')\n",
    "ipc_diario = ipc_diario.dropna()\n",
    "ipc_diario.index.name = 'd'\n",
    "ipc_diario.to_csv('./../data/info/indice_precios_d.csv')\n",
    "display(ipc_diario.tail())\n",
    "\n",
    "## Indice de precios Mensual\n",
    "ipc_union_m_.to_csv('./../data/info/indice_precios_M.csv')\n",
    "\n",
    "## Indice de precios Trimestral\n",
    "ipc_ = ipc_union_m_.groupby(pd.Grouper(freq='Q')).mean().loc['2000':][['index']]#.to_csv(...)\n",
    "\n",
    "### Convenciones para fijar fecha de trimestre.\n",
    "from pandas.tseries.offsets import DateOffset\n",
    "ipc_.index = pd.Series(ipc_.index).dt.to_period('M').dt.to_timestamp() + DateOffset(days=14, months = -1)\n",
    "ipc_.index.name = 'Q'\n",
    "ipc_.to_csv('./../data/info/indice_precios_Q.csv')\n",
    "display(ipc_.tail())"
   ]
  },
  {
   "cell_type": "markdown",
   "metadata": {},
   "source": [
    "## Inflacion anual acumulada\n",
    "\n",
    "Lineas verticales indicando diciembre de 2001 y mandatos presidenciales."
   ]
  },
  {
   "cell_type": "code",
   "execution_count": null,
   "metadata": {},
   "outputs": [],
   "source": [
    "# display(ipc_diario['2021'].head())\n",
    "rolling_anual = 100*(-1 + ipc_diario/ipc_diario.shift(365))['index'].dropna()\n",
    "\n",
    "fig, ax = plt.subplots(1, figsize = (12, 6))\n",
    "\n",
    "ax.set_title('Inflacion ultimo año.')\n",
    "ax.set_ylabel('Cambio de precios ultimos 365 dias. [%]')\n",
    "\n",
    "rolling_anual.plot(ax = ax)\n",
    "\n",
    "ax.axvline('2001-12', color = '.5', lw = 1)\n",
    "ax.axvline('2003-05', color = 'k', lw = 1)\n",
    "ax.axvline('2007-12', color = 'k', lw = 1)\n",
    "ax.axvline('2011-12', color = '.5', lw = 1)\n",
    "ax.axvline('2015-12', color = 'k', lw = 1)\n",
    "ax.axvline('2019-12', color = 'k', lw = 1)\n",
    "\n",
    "plt.grid(True, color = '.8', linestyle = '--')\n",
    "ax.grid(which='minor', color='.8', linestyle=':', linewidth=0.5)\n",
    "ax.minorticks_on()\n",
    "plt.savefig('./../figuras/figura3.png')\n",
    "plt.show()"
   ]
  },
  {
   "cell_type": "code",
   "execution_count": null,
   "metadata": {},
   "outputs": [],
   "source": [
    "import os\n",
    "\n",
    "if not os.path.exists('./../figuras/'):\n",
    "    os.mkdir('./../figuras/')"
   ]
  },
  {
   "cell_type": "code",
   "execution_count": null,
   "metadata": {},
   "outputs": [],
   "source": [
    "plt.savefig('./../figuras/figura1.png')"
   ]
  },
  {
   "cell_type": "code",
   "execution_count": null,
   "metadata": {},
   "outputs": [],
   "source": [
    "xx"
   ]
  },
  {
   "cell_type": "markdown",
   "metadata": {},
   "source": [
    "## Tipo de Cambio"
   ]
  },
  {
   "cell_type": "code",
   "execution_count": null,
   "metadata": {},
   "outputs": [],
   "source": [
    "import requests"
   ]
  },
  {
   "cell_type": "code",
   "execution_count": null,
   "metadata": {},
   "outputs": [],
   "source": [
    "## Cargar fuente Indec para IPC post 2015\n",
    "### Descargar info actualizada en ipc_b201612_mensual.csv\n",
    "# csv_url = 'https://infra.datos.gob.ar/catalog/sspm/dataset/145/distribution/145.3/download/indice-precios-al-consumidor-nivel-general-base-diciembre-2016-mensual.csv'\n",
    "csv_url = 'https://infra.datos.gob.ar/catalog/sspm/dataset/168/distribution/168.1/download/datos-tipo-cambio-usd-futuro-dolar-frecuencia-diaria.csv'\n",
    "req = requests.get(csv_url)\n",
    "csv_file = open('./../data/info/tcambiousd_diario.csv', 'wb')\n",
    "csv_file.write(req.content)\n",
    "csv_file.close()\n",
    "\n",
    "\n",
    "## Usar archivo\n",
    "usd = pd.read_csv('./../data/info/tcambiousd_diario.csv',\n",
    "                 usecols = ['indice_tiempo','tipo_cambio_a3500']\n",
    "                 ).set_index('indice_tiempo').astype(float)\n",
    "\n",
    "usd.index = pd.to_datetime(usd.index, format='%Y-%m-%d')\n",
    "usd = usd.loc['2003':]\n",
    "usd = usd.groupby(pd.Grouper(level = 0, freq = 'M')).mean()\n",
    "usd.index = usd.index + pd.offsets.MonthEnd(-1) + pd.offsets.Day(15)\n",
    "usd.tail()"
   ]
  },
  {
   "cell_type": "code",
   "execution_count": null,
   "metadata": {},
   "outputs": [],
   "source": [
    "## Tasa de inflacion de los ultimos 12 meses. Se usa para completar la inflacion del ultimo mes antes que se mida.\n",
    "r = usd.pct_change().tail(6).mean()[0]\n",
    "print(r)\n",
    "\n",
    "## Estirar la serie de CPI hasta el dia de hoy (para precios actualizados)\n",
    "meses_presente = pd.date_range(usd.index[-1], \n",
    "              pd.datetime.today() + pd.DateOffset(months=6), freq = 'M') + pd.DateOffset(days=15)\n",
    "\n",
    "usd = pd.concat([usd, pd.DataFrame([], index = meses_presente)])\n",
    "\n",
    "last_valid_ix = usd.dropna().iloc[-1] # Level of the cpi index in last valid month\n",
    "\n",
    "usd['avg_rate'] = pd.Series((1 + r)**range(len(usd)), index = usd.index)  ## Compute the exponential curve\n",
    "\n",
    "# Bring to actual level\n",
    "ratio = usd.loc[last_valid_ix.name].avg_rate / usd.loc[last_valid_ix.name]['tipo_cambio_a3500'] \n",
    "usd['avg_rate'] = usd['avg_rate']/ratio  \n",
    "\n",
    "# Complete cpi series up to present and remove exponential\n",
    "usd['tipo_cambio_a3500'] = usd['tipo_cambio_a3500'].fillna(usd['avg_rate'])\n",
    "usd = usd.drop('avg_rate', axis = 1)\n"
   ]
  },
  {
   "cell_type": "code",
   "execution_count": null,
   "metadata": {},
   "outputs": [],
   "source": [
    "# usd.rolling(30).mean().plot() #legend = False\n",
    "usd.plot() #legend = False"
   ]
  },
  {
   "cell_type": "code",
   "execution_count": null,
   "metadata": {},
   "outputs": [],
   "source": [
    "usd = usd.groupby(pd.Grouper(level = 0, freq = 'Q')).mean()\n",
    "usd.index = usd.index + pd.offsets.MonthEnd(-2) + pd.offsets.Day(15)\n",
    "usd.index.name = 'Q'\n",
    "usd.tail()"
   ]
  },
  {
   "cell_type": "code",
   "execution_count": null,
   "metadata": {},
   "outputs": [],
   "source": [
    "usd.to_csv('./../data/info/ARS_USD_Q.csv')"
   ]
  },
  {
   "cell_type": "markdown",
   "metadata": {},
   "source": [
    "## Poder de Compra (PPP)"
   ]
  },
  {
   "cell_type": "code",
   "execution_count": null,
   "metadata": {
    "scrolled": true
   },
   "outputs": [],
   "source": [
    "csv_url = 'https://stats.oecd.org/sdmx-json/data/DP_LIVE/.PPP.../OECD?contentType=csv&detail=code&separator=comma&csv-lang=en'\n",
    "req = requests.get(csv_url)\n",
    "csv_file = open('./../data/info/ex_PPP.csv', 'wb')\n",
    "csv_file.write(req.content)\n",
    "csv_file.close()\n",
    "\n",
    "## Usar archivo\n",
    "ppp = pd.read_csv('./../data/info/ex_PPP.csv')\n",
    "ppp = ppp.loc[ppp.LOCATION == 'ARG'][['TIME', 'Value']].set_index('TIME').astype(float)\n",
    "\n",
    "\n",
    "ppp.index = pd.to_datetime(ppp.index, format='%Y')\n",
    "ppp = ppp.loc['2003':]\n",
    "# ppp = ppp.groupby(pd.Grouper(level = 0, freq = 'M')).mean()\n",
    "ppp.index = ppp.index + pd.DateOffset(months=6)\n",
    "ppp.tail()"
   ]
  },
  {
   "cell_type": "code",
   "execution_count": null,
   "metadata": {},
   "outputs": [],
   "source": [
    "## Tasa de inflacion de los ultimos 12 meses. Se usa para completar la inflacion del ultimo mes antes que se mida.\n",
    "tseries = ppp\n",
    "r = tseries.pct_change().tail(6).mean()[0]\n",
    "print(r)\n",
    "\n",
    "## Estirar la serie de CPI hasta el dia de hoy (para precios actualizados)\n",
    "cur_end = tseries.index[-1]\n",
    "new_end = tseries.index[-1] + pd.DateOffset(years = 2)\n",
    "anos_presente = pd.date_range(cur_end, new_end, freq = 'Y') + pd.DateOffset(months = 6, days = 1)\n",
    "\n",
    "tseries = pd.concat([tseries, pd.DataFrame([], index = anos_presente)])\n",
    "\n",
    "last_valid_ix = tseries.dropna().iloc[-1] # Level of the cpi index in last valid month\n",
    "\n",
    "tseries['avg_rate'] = pd.Series((1 + r)**range(len(tseries)), index = tseries.index)  ## Compute the exponential curve\n",
    "\n",
    "# Bring to actual level\n",
    "ratio = tseries.loc[last_valid_ix.name].avg_rate / tseries.loc[last_valid_ix.name]['Value'] \n",
    "tseries['avg_rate'] = tseries['avg_rate']/ratio  \n",
    "\n",
    "# Complete cpi series up to present and remove exponential\n",
    "tseries['Value'] = tseries['Value'].fillna(tseries['avg_rate'])\n",
    "tseries = tseries.drop('avg_rate', axis = 1)\n",
    "\n",
    "ppp = tseries\n",
    "ppp.tail()"
   ]
  },
  {
   "cell_type": "code",
   "execution_count": null,
   "metadata": {},
   "outputs": [],
   "source": [
    "# # ## Conversor PPP\n",
    "# # PA.NUS.PPP\n",
    "# # PPP conversion factor, GDP (LCU per international $)\n",
    "# # Purchasing power parity (PPP) conversion factor is a spatial price deflator and currency converter \n",
    "# # that controls for price level differences between countries, thereby allowing volume comparisons of\n",
    "# # gross domestic product (GDP) and its expenditure components. This conversion factor is for GDP.\t\n",
    "# # International Comparison Program, World Bank | World Development Indicators database, World Bank | \n",
    "# # Eurostat-OECD PPP Programme.\n",
    "\n",
    "    \n",
    "# csv_url = 'https://api.worldbank.org/v2/en/indicator/PA.NUS.PPP?downloadformat=csv'\n",
    "# req = requests.get(csv_url)\n",
    "# csv_file = open('./../data/info/PA_PPP.zip', 'wb')\n",
    "# csv_file.write(req.content)\n",
    "# csv_file.close()\n",
    "\n",
    "# import zipfile\n",
    "# zf = zipfile.ZipFile('./../data/info/PA_PPP.zip', 'r')\n",
    "# ppp = pd.read_csv(zf.open('API_PA.NUS.PPP_DS2_en_csv_v2_2708557.csv'), skiprows = 4, index_col=[0, 1, 2, 3])\n",
    "# ppp = ppp.loc['Argentina'].T.dropna().pct_change()\n",
    "# ppp.columns = ['ARG_PA_PPP']\n",
    "\n",
    "# ## Extend to current times\n",
    "# mn_ppp = ppp.tail(3).mean()\n",
    "# _2021 = pd.DataFrame(mn_ppp, columns = ['2021'], index = ['ARG_PA_PPP']).T\n",
    "# _2022 = pd.DataFrame(mn_ppp, columns = ['2022'], index = ['ARG_PA_PPP']).T\n",
    "# ppp = ppp.append(_2021).append(_2022)\n",
    "\n",
    "# ppp.index = pd.to_datetime(ppp.index)\n",
    "# ppp.index = ppp.index + pd.DateOffset(months=6)# + pd.offsets.MonthEnd(-1) + pd.offsets.Day(15)\n",
    "# ppp.index.name = 'Q'\n",
    "\n",
    "# ppp.tail()"
   ]
  },
  {
   "cell_type": "code",
   "execution_count": null,
   "metadata": {},
   "outputs": [],
   "source": [
    "ppp = ppp.resample('d').mean().interpolate(method = 'quadratic')#.plot()\n",
    "ppp = ppp.loc['2003':]\n",
    "ppp = ppp.groupby(pd.Grouper(level = 0, freq = 'M')).mean()\n",
    "ppp.index = ppp.index + pd.offsets.MonthEnd(-1) + pd.offsets.Day(15)\n",
    "ppp.tail()"
   ]
  },
  {
   "cell_type": "code",
   "execution_count": null,
   "metadata": {},
   "outputs": [],
   "source": [
    "ppp = ppp.groupby(pd.Grouper(level = 0, freq = 'Q')).mean()\n",
    "ppp.index = ppp.index + pd.offsets.MonthEnd(-2) + pd.offsets.Day(15)\n",
    "ppp.index.name = 'Q'\n",
    "ppp.tail()"
   ]
  },
  {
   "cell_type": "code",
   "execution_count": null,
   "metadata": {},
   "outputs": [],
   "source": [
    "ppp.plot(marker = '.')"
   ]
  },
  {
   "cell_type": "code",
   "execution_count": null,
   "metadata": {},
   "outputs": [],
   "source": [
    "ppp.to_csv('./../data/info/ARG_PPP_Q.csv')"
   ]
  },
  {
   "cell_type": "code",
   "execution_count": null,
   "metadata": {},
   "outputs": [],
   "source": []
  }
 ],
 "metadata": {
  "kernelspec": {
   "display_name": "Python 3",
   "language": "python",
   "name": "python3"
  },
  "language_info": {
   "codemirror_mode": {
    "name": "ipython",
    "version": 3
   },
   "file_extension": ".py",
   "mimetype": "text/x-python",
   "name": "python",
   "nbconvert_exporter": "python",
   "pygments_lexer": "ipython3",
   "version": "3.8.5"
  }
 },
 "nbformat": 4,
 "nbformat_minor": 2
}
