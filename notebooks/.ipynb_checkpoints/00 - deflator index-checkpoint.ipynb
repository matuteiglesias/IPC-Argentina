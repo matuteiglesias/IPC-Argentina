{
 "cells": [
  {
   "cell_type": "code",
   "execution_count": 1,
   "metadata": {},
   "outputs": [],
   "source": [
    "import pandas as pd\n",
    "import matplotlib.pyplot as plt\n",
    "%matplotlib inline\n",
    "\n",
    "import numpy as np"
   ]
  },
  {
   "cell_type": "markdown",
   "metadata": {},
   "source": [
    "## Carga de series de tiempo de IPC Provinciales\n",
    "\n",
    "### Extraemos las series de tiempo de indices de precios (nivel general)\n"
   ]
  },
  {
   "cell_type": "markdown",
   "metadata": {},
   "source": [
    "   - San Luis\n",
    "   \n",
    "   https://www.ieric.org.ar/wp-content/uploads/2021/09/IPC-Prov-San-Luis.xlsx\n",
    "   "
   ]
  },
  {
   "cell_type": "code",
   "execution_count": 329,
   "metadata": {},
   "outputs": [
    {
     "data": {
      "text/html": [
       "<div>\n",
       "<style scoped>\n",
       "    .dataframe tbody tr th:only-of-type {\n",
       "        vertical-align: middle;\n",
       "    }\n",
       "\n",
       "    .dataframe tbody tr th {\n",
       "        vertical-align: top;\n",
       "    }\n",
       "\n",
       "    .dataframe thead th {\n",
       "        text-align: right;\n",
       "    }\n",
       "</style>\n",
       "<table border=\"1\" class=\"dataframe\">\n",
       "  <thead>\n",
       "    <tr style=\"text-align: right;\">\n",
       "      <th></th>\n",
       "      <th>ipc_SanLuis</th>\n",
       "    </tr>\n",
       "    <tr>\n",
       "      <th>indice_tiempo</th>\n",
       "      <th></th>\n",
       "    </tr>\n",
       "  </thead>\n",
       "  <tbody>\n",
       "    <tr>\n",
       "      <th>2021-04-01</th>\n",
       "      <td>3.991775</td>\n",
       "    </tr>\n",
       "    <tr>\n",
       "      <th>2021-05-01</th>\n",
       "      <td>3.320030</td>\n",
       "    </tr>\n",
       "    <tr>\n",
       "      <th>2021-06-01</th>\n",
       "      <td>3.379998</td>\n",
       "    </tr>\n",
       "    <tr>\n",
       "      <th>2021-07-01</th>\n",
       "      <td>2.539193</td>\n",
       "    </tr>\n",
       "    <tr>\n",
       "      <th>2021-08-01</th>\n",
       "      <td>2.606473</td>\n",
       "    </tr>\n",
       "  </tbody>\n",
       "</table>\n",
       "</div>"
      ],
      "text/plain": [
       "               ipc_SanLuis\n",
       "indice_tiempo             \n",
       "2021-04-01        3.991775\n",
       "2021-05-01        3.320030\n",
       "2021-06-01        3.379998\n",
       "2021-07-01        2.539193\n",
       "2021-08-01        2.606473"
      ]
     },
     "execution_count": 329,
     "metadata": {},
     "output_type": "execute_result"
    }
   ],
   "source": [
    "## IPC San Luis\n",
    "\n",
    "url = 'https://www.ieric.org.ar/wp-content/uploads/2021/09/IPC-Prov-San-Luis.xlsx'\n",
    "data = pd.read_excel(url, sheet_name = 'Serie', skiprows=3).dropna(subset = ['Nivel General'])\n",
    "\n",
    "ipc_SanLuis = data[['Periodo', 'Nivel General']]\n",
    "ipc_SanLuis.columns = ['indice_tiempo', 'ipc_SanLuis']\n",
    "ipc_SanLuis.index = pd.to_datetime(ipc_SanLuis['indice_tiempo']);\n",
    "ipc_SanLuis = ipc_SanLuis[['ipc_SanLuis']].astype(float)\n",
    "\n",
    "100*ipc_SanLuis.pct_change().tail()"
   ]
  },
  {
   "cell_type": "markdown",
   "metadata": {},
   "source": [
    "   - Cordoba\n",
    "   \n",
    "   https://datosestadistica.cba.gov.ar/dataset/fedc5285-5517-41aa-9095-bb62c6dbc485/resource/2b4a7c60-1c8a-45b1-be8f-2bd59bfe2364/download/ipc-cba-enero-.xlsx\n",
    "   \n",
    "   "
   ]
  },
  {
   "cell_type": "code",
   "execution_count": 330,
   "metadata": {},
   "outputs": [
    {
     "data": {
      "text/html": [
       "<div>\n",
       "<style scoped>\n",
       "    .dataframe tbody tr th:only-of-type {\n",
       "        vertical-align: middle;\n",
       "    }\n",
       "\n",
       "    .dataframe tbody tr th {\n",
       "        vertical-align: top;\n",
       "    }\n",
       "\n",
       "    .dataframe thead th {\n",
       "        text-align: right;\n",
       "    }\n",
       "</style>\n",
       "<table border=\"1\" class=\"dataframe\">\n",
       "  <thead>\n",
       "    <tr style=\"text-align: right;\">\n",
       "      <th></th>\n",
       "      <th>ipc_Cordoba</th>\n",
       "    </tr>\n",
       "    <tr>\n",
       "      <th>indice_tiempo</th>\n",
       "      <th></th>\n",
       "    </tr>\n",
       "  </thead>\n",
       "  <tbody>\n",
       "    <tr>\n",
       "      <th>2021-04-01</th>\n",
       "      <td>3.624545</td>\n",
       "    </tr>\n",
       "    <tr>\n",
       "      <th>2021-05-01</th>\n",
       "      <td>3.757631</td>\n",
       "    </tr>\n",
       "    <tr>\n",
       "      <th>2021-06-01</th>\n",
       "      <td>3.326877</td>\n",
       "    </tr>\n",
       "    <tr>\n",
       "      <th>2021-07-01</th>\n",
       "      <td>2.576512</td>\n",
       "    </tr>\n",
       "    <tr>\n",
       "      <th>2021-08-01</th>\n",
       "      <td>2.130522</td>\n",
       "    </tr>\n",
       "  </tbody>\n",
       "</table>\n",
       "</div>"
      ],
      "text/plain": [
       "               ipc_Cordoba\n",
       "indice_tiempo             \n",
       "2021-04-01        3.624545\n",
       "2021-05-01        3.757631\n",
       "2021-06-01        3.326877\n",
       "2021-07-01        2.576512\n",
       "2021-08-01        2.130522"
      ]
     },
     "execution_count": 330,
     "metadata": {},
     "output_type": "execute_result"
    }
   ],
   "source": [
    "## IPC Cordoba\n",
    "\n",
    "url = 'https://datosestadistica.cba.gov.ar/dataset/fedc5285-5517-41aa-9095-bb62c6dbc485/resource/2b4a7c60-1c8a-45b1-be8f-2bd59bfe2364/download/ipc-cba-enero-.xlsx'\n",
    "data = pd.read_excel(url, sheet_name = 'IPC-Cba base 2014', skiprows=5, index_col = [0, 1, 2]\n",
    "                    ).dropna().T\n",
    "\n",
    "ipc_Cordoba = data[0]['Código'].reset_index()\n",
    "ipc_Cordoba.columns = ['indice_tiempo', 'ipc_Cordoba']\n",
    "ipc_Cordoba.index = pd.to_datetime(ipc_Cordoba['indice_tiempo']);\n",
    "ipc_Cordoba = ipc_Cordoba[['ipc_Cordoba']].astype(float)\n",
    "\n",
    "100*ipc_Cordoba.pct_change().tail()"
   ]
  },
  {
   "cell_type": "markdown",
   "metadata": {},
   "source": [
    "\n",
    "   - CABA\n",
    "   \n",
    "   https://www.estadisticaciudad.gob.ar/eyc/wp-content/uploads/2019/05/Principales_aperturas_indices.xlsx\n",
    "   \n",
    "   "
   ]
  },
  {
   "cell_type": "code",
   "execution_count": 331,
   "metadata": {},
   "outputs": [
    {
     "data": {
      "text/html": [
       "<div>\n",
       "<style scoped>\n",
       "    .dataframe tbody tr th:only-of-type {\n",
       "        vertical-align: middle;\n",
       "    }\n",
       "\n",
       "    .dataframe tbody tr th {\n",
       "        vertical-align: top;\n",
       "    }\n",
       "\n",
       "    .dataframe thead th {\n",
       "        text-align: right;\n",
       "    }\n",
       "</style>\n",
       "<table border=\"1\" class=\"dataframe\">\n",
       "  <thead>\n",
       "    <tr style=\"text-align: right;\">\n",
       "      <th></th>\n",
       "      <th>ipc_CABA</th>\n",
       "    </tr>\n",
       "    <tr>\n",
       "      <th>indice_tiempo</th>\n",
       "      <th></th>\n",
       "    </tr>\n",
       "  </thead>\n",
       "  <tbody>\n",
       "    <tr>\n",
       "      <th>2021-03-01</th>\n",
       "      <td>3.888505</td>\n",
       "    </tr>\n",
       "    <tr>\n",
       "      <th>2021-04-01</th>\n",
       "      <td>4.024905</td>\n",
       "    </tr>\n",
       "    <tr>\n",
       "      <th>2021-05-01</th>\n",
       "      <td>3.604412</td>\n",
       "    </tr>\n",
       "    <tr>\n",
       "      <th>2021-06-01</th>\n",
       "      <td>3.209534</td>\n",
       "    </tr>\n",
       "    <tr>\n",
       "      <th>2021-07-01</th>\n",
       "      <td>2.946612</td>\n",
       "    </tr>\n",
       "  </tbody>\n",
       "</table>\n",
       "</div>"
      ],
      "text/plain": [
       "               ipc_CABA\n",
       "indice_tiempo          \n",
       "2021-03-01     3.888505\n",
       "2021-04-01     4.024905\n",
       "2021-05-01     3.604412\n",
       "2021-06-01     3.209534\n",
       "2021-07-01     2.946612"
      ]
     },
     "execution_count": 331,
     "metadata": {},
     "output_type": "execute_result"
    }
   ],
   "source": [
    "## IPC CABA\n",
    "url = 'https://www.estadisticaciudad.gob.ar/eyc/wp-content/uploads/2019/05/Principales_aperturas_indices.xlsx'\n",
    "data = pd.read_excel(url, sheet_name = 'Principales_aperturas_indices', skiprows=2, index_col = [0]\n",
    "                    ).dropna().T.iloc[:-1]\n",
    "\n",
    "ipc_CABA = data[['Nivel General']].reset_index()\n",
    "ipc_CABA.columns = ['indice_tiempo', 'ipc_CABA']\n",
    "ipc_CABA.index = pd.to_datetime(ipc_CABA['indice_tiempo']);\n",
    "ipc_CABA = ipc_CABA[['ipc_CABA']].astype(float)\n",
    "\n",
    "100*ipc_CABA.pct_change().tail()"
   ]
  },
  {
   "cell_type": "markdown",
   "metadata": {},
   "source": [
    "   - INDEC I (- feb 2007)\n",
    "   \n",
    "   https://www.indec.gob.ar/ftp/nuevaweb/cuadros/10/sh_ipc_2008.xls\n"
   ]
  },
  {
   "cell_type": "code",
   "execution_count": 332,
   "metadata": {},
   "outputs": [
    {
     "data": {
      "text/html": [
       "<div>\n",
       "<style scoped>\n",
       "    .dataframe tbody tr th:only-of-type {\n",
       "        vertical-align: middle;\n",
       "    }\n",
       "\n",
       "    .dataframe tbody tr th {\n",
       "        vertical-align: top;\n",
       "    }\n",
       "\n",
       "    .dataframe thead th {\n",
       "        text-align: right;\n",
       "    }\n",
       "</style>\n",
       "<table border=\"1\" class=\"dataframe\">\n",
       "  <thead>\n",
       "    <tr style=\"text-align: right;\">\n",
       "      <th></th>\n",
       "      <th>ipc_INDEC1</th>\n",
       "    </tr>\n",
       "  </thead>\n",
       "  <tbody>\n",
       "    <tr>\n",
       "      <th>2006-10-01</th>\n",
       "      <td>0.855908</td>\n",
       "    </tr>\n",
       "    <tr>\n",
       "      <th>2006-11-01</th>\n",
       "      <td>0.707660</td>\n",
       "    </tr>\n",
       "    <tr>\n",
       "      <th>2006-12-01</th>\n",
       "      <td>0.981203</td>\n",
       "    </tr>\n",
       "    <tr>\n",
       "      <th>2007-01-01</th>\n",
       "      <td>1.144288</td>\n",
       "    </tr>\n",
       "    <tr>\n",
       "      <th>2007-02-01</th>\n",
       "      <td>0.301854</td>\n",
       "    </tr>\n",
       "  </tbody>\n",
       "</table>\n",
       "</div>"
      ],
      "text/plain": [
       "            ipc_INDEC1\n",
       "2006-10-01    0.855908\n",
       "2006-11-01    0.707660\n",
       "2006-12-01    0.981203\n",
       "2007-01-01    1.144288\n",
       "2007-02-01    0.301854"
      ]
     },
     "execution_count": 332,
     "metadata": {},
     "output_type": "execute_result"
    }
   ],
   "source": [
    "## IPC Indec 1\n",
    "url = 'https://www.indec.gob.ar/ftp/nuevaweb/cuadros/10/sh_ipc_2008.xls'\n",
    "data = pd.read_excel(url, sheet_name = 'Serie Histórica', skiprows=4, index_col = [0, 1]\n",
    "                    ).dropna(subset = ['Nivel general'])\n",
    "\n",
    "ipc_INDEC1 = data[['Nivel general']].iloc[:-1].reset_index()\n",
    "\n",
    "ipc_INDEC1.columns = ['year', 'month', 'ipc_INDEC1']; ipc_INDEC1['day'] = 1\n",
    "ipc_INDEC1.index = pd.to_datetime(ipc_INDEC1[['year', 'month', 'day']])\n",
    "ipc_INDEC1['ipc_INDEC1'] = ipc_INDEC1['ipc_INDEC1'].astype(str).str.replace(',', '.')\n",
    "ipc_INDEC1 = ipc_INDEC1[['ipc_INDEC1']].astype(float)\n",
    "ipc_INDEC1 = ipc_INDEC1.loc['2000':'2007-02']\n",
    "\n",
    "100*ipc_INDEC1.pct_change().tail()"
   ]
  },
  {
   "cell_type": "code",
   "execution_count": 298,
   "metadata": {},
   "outputs": [],
   "source": [
    "# ## IPC Indec 2\n",
    "# url = 'https://www.indec.gob.ar/ftp/cuadros/economia/sh_ipcnu.xls'\n",
    "# data = pd.read_excel(url, sheet_name = 'Serie Histórica', skiprows=4, index_col = [0, 1]\n",
    "#                     ).dropna(subset = ['Nivel general'])\n",
    "\n",
    "# ipc_INDEC2 = data[['Nivel general']].reset_index()\n",
    "\n",
    "# ipc_INDEC2.columns = ['year', 'month', 'ipc_INDEC2']; ipc_INDEC2['day'] = 1\n",
    "# ipc_INDEC2.index = pd.to_datetime(ipc_INDEC2[['year', 'month', 'day']].astype(int))\n",
    "# ipc_INDEC2 = ipc_INDEC2[['ipc_INDEC2']].astype(float)\n",
    "\n",
    "# ipc_INDEC2.tail()"
   ]
  },
  {
   "cell_type": "markdown",
   "metadata": {},
   "source": [
    "   - INDEC II (dic 2016 - )\n",
    "   \n",
    "   https://infra.datos.gob.ar/catalog/sspm/dataset/145/distribution/145.3/download/indice-precios-al-consumidor-nivel-general-base-diciembre-2016-mensual.csv"
   ]
  },
  {
   "cell_type": "code",
   "execution_count": 543,
   "metadata": {},
   "outputs": [
    {
     "data": {
      "text/html": [
       "<div>\n",
       "<style scoped>\n",
       "    .dataframe tbody tr th:only-of-type {\n",
       "        vertical-align: middle;\n",
       "    }\n",
       "\n",
       "    .dataframe tbody tr th {\n",
       "        vertical-align: top;\n",
       "    }\n",
       "\n",
       "    .dataframe thead th {\n",
       "        text-align: right;\n",
       "    }\n",
       "</style>\n",
       "<table border=\"1\" class=\"dataframe\">\n",
       "  <thead>\n",
       "    <tr style=\"text-align: right;\">\n",
       "      <th></th>\n",
       "      <th>ipc_INDEC3</th>\n",
       "    </tr>\n",
       "    <tr>\n",
       "      <th>indice_tiempo</th>\n",
       "      <th></th>\n",
       "    </tr>\n",
       "  </thead>\n",
       "  <tbody>\n",
       "    <tr>\n",
       "      <th>2021-04-01</th>\n",
       "      <td>4.080294</td>\n",
       "    </tr>\n",
       "    <tr>\n",
       "      <th>2021-05-01</th>\n",
       "      <td>3.322978</td>\n",
       "    </tr>\n",
       "    <tr>\n",
       "      <th>2021-06-01</th>\n",
       "      <td>3.174548</td>\n",
       "    </tr>\n",
       "    <tr>\n",
       "      <th>2021-07-01</th>\n",
       "      <td>2.997033</td>\n",
       "    </tr>\n",
       "    <tr>\n",
       "      <th>2021-08-01</th>\n",
       "      <td>2.468487</td>\n",
       "    </tr>\n",
       "  </tbody>\n",
       "</table>\n",
       "</div>"
      ],
      "text/plain": [
       "               ipc_INDEC3\n",
       "indice_tiempo            \n",
       "2021-04-01       4.080294\n",
       "2021-05-01       3.322978\n",
       "2021-06-01       3.174548\n",
       "2021-07-01       2.997033\n",
       "2021-08-01       2.468487"
      ]
     },
     "execution_count": 543,
     "metadata": {},
     "output_type": "execute_result"
    }
   ],
   "source": [
    "## IPC Indec 3\n",
    "url = 'https://infra.datos.gob.ar/catalog/sspm/dataset/145/distribution/145.3/download/indice-precios-al-consumidor-nivel-general-base-diciembre-2016-mensual.csv'\n",
    "data = pd.read_csv(url)#.astype(float)\n",
    "\n",
    "ipc_INDEC3 = data[['indice_tiempo', 'ipc_ng_nacional']]\n",
    "ipc_INDEC3.columns = ['indice_tiempo', 'ipc_INDEC3'];\n",
    "ipc_INDEC3.index = pd.to_datetime(ipc_INDEC3['indice_tiempo'], format = '%Y-%m-%d')\n",
    "ipc_INDEC3 = ipc_INDEC3[['ipc_INDEC3']].astype(float)\n",
    "\n",
    "100*ipc_INDEC3.pct_change().tail()"
   ]
  },
  {
   "cell_type": "markdown",
   "metadata": {},
   "source": [
    "## Las series se promedian en cada mes para dar un solo indice:"
   ]
  },
  {
   "cell_type": "code",
   "execution_count": 544,
   "metadata": {},
   "outputs": [],
   "source": [
    "## Concatenar series:\n",
    "\n",
    "ipc = pd.concat([ipc_INDEC3, ipc_CABA, ipc_Cordoba, ipc_SanLuis, ipc_INDEC1], axis = 1)\n",
    "mean_pct = 100*ipc.pct_change().replace(0, np.nan).mean(1)\n",
    "ipc = np.log10(ipc)\n",
    "\n",
    "## Offset para alinear los indices de distintas series:\n",
    "offset = [0]\n",
    "for i, column in enumerate(ipc.columns[1:]):\n",
    "    info = ipc.iloc[:, [i + 1, i]].dropna()\n",
    "    off = info.diff(1, axis = 1).mean()[1]\n",
    "    offset += [off]\n",
    "    \n",
    "offset = np.cumsum(np.array(offset))\n",
    "ipc_union = ipc + offset"
   ]
  },
  {
   "cell_type": "code",
   "execution_count": 545,
   "metadata": {},
   "outputs": [
    {
     "data": {
      "text/html": [
       "<div>\n",
       "<style scoped>\n",
       "    .dataframe tbody tr th:only-of-type {\n",
       "        vertical-align: middle;\n",
       "    }\n",
       "\n",
       "    .dataframe tbody tr th {\n",
       "        vertical-align: top;\n",
       "    }\n",
       "\n",
       "    .dataframe thead th {\n",
       "        text-align: right;\n",
       "    }\n",
       "</style>\n",
       "<table border=\"1\" class=\"dataframe\">\n",
       "  <thead>\n",
       "    <tr style=\"text-align: right;\">\n",
       "      <th></th>\n",
       "      <th>log_index</th>\n",
       "      <th>index</th>\n",
       "      <th>log_index_diff</th>\n",
       "      <th>pct_m</th>\n",
       "    </tr>\n",
       "  </thead>\n",
       "  <tbody>\n",
       "    <tr>\n",
       "      <th>2000-01-01</th>\n",
       "      <td>-1.182834</td>\n",
       "      <td>6.563965</td>\n",
       "      <td>NaN</td>\n",
       "      <td>NaN</td>\n",
       "    </tr>\n",
       "    <tr>\n",
       "      <th>2000-02-01</th>\n",
       "      <td>-1.182816</td>\n",
       "      <td>6.564234</td>\n",
       "      <td>0.000018</td>\n",
       "      <td>0.004096</td>\n",
       "    </tr>\n",
       "    <tr>\n",
       "      <th>2000-03-01</th>\n",
       "      <td>-1.185117</td>\n",
       "      <td>6.529552</td>\n",
       "      <td>-0.002301</td>\n",
       "      <td>-0.528349</td>\n",
       "    </tr>\n",
       "    <tr>\n",
       "      <th>2000-04-01</th>\n",
       "      <td>-1.185605</td>\n",
       "      <td>6.522210</td>\n",
       "      <td>-0.000489</td>\n",
       "      <td>-0.112443</td>\n",
       "    </tr>\n",
       "    <tr>\n",
       "      <th>2000-05-01</th>\n",
       "      <td>-1.187297</td>\n",
       "      <td>6.496858</td>\n",
       "      <td>-0.001691</td>\n",
       "      <td>-0.388699</td>\n",
       "    </tr>\n",
       "    <tr>\n",
       "      <th>...</th>\n",
       "      <td>...</td>\n",
       "      <td>...</td>\n",
       "      <td>...</td>\n",
       "      <td>...</td>\n",
       "    </tr>\n",
       "    <tr>\n",
       "      <th>2021-04-01</th>\n",
       "      <td>0.768690</td>\n",
       "      <td>587.070496</td>\n",
       "      <td>0.016742</td>\n",
       "      <td>3.930380</td>\n",
       "    </tr>\n",
       "    <tr>\n",
       "      <th>2021-05-01</th>\n",
       "      <td>0.783635</td>\n",
       "      <td>607.624378</td>\n",
       "      <td>0.014945</td>\n",
       "      <td>3.501263</td>\n",
       "    </tr>\n",
       "    <tr>\n",
       "      <th>2021-06-01</th>\n",
       "      <td>0.797621</td>\n",
       "      <td>627.510133</td>\n",
       "      <td>0.013986</td>\n",
       "      <td>3.272739</td>\n",
       "    </tr>\n",
       "    <tr>\n",
       "      <th>2021-07-01</th>\n",
       "      <td>0.809464</td>\n",
       "      <td>644.858448</td>\n",
       "      <td>0.011844</td>\n",
       "      <td>2.764838</td>\n",
       "    </tr>\n",
       "    <tr>\n",
       "      <th>2021-08-01</th>\n",
       "      <td>0.827616</td>\n",
       "      <td>672.381583</td>\n",
       "      <td>0.018151</td>\n",
       "      <td>2.401827</td>\n",
       "    </tr>\n",
       "  </tbody>\n",
       "</table>\n",
       "<p>260 rows × 4 columns</p>\n",
       "</div>"
      ],
      "text/plain": [
       "            log_index       index  log_index_diff     pct_m\n",
       "2000-01-01  -1.182834    6.563965             NaN       NaN\n",
       "2000-02-01  -1.182816    6.564234        0.000018  0.004096\n",
       "2000-03-01  -1.185117    6.529552       -0.002301 -0.528349\n",
       "2000-04-01  -1.185605    6.522210       -0.000489 -0.112443\n",
       "2000-05-01  -1.187297    6.496858       -0.001691 -0.388699\n",
       "...               ...         ...             ...       ...\n",
       "2021-04-01   0.768690  587.070496        0.016742  3.930380\n",
       "2021-05-01   0.783635  607.624378        0.014945  3.501263\n",
       "2021-06-01   0.797621  627.510133        0.013986  3.272739\n",
       "2021-07-01   0.809464  644.858448        0.011844  2.764838\n",
       "2021-08-01   0.827616  672.381583        0.018151  2.401827\n",
       "\n",
       "[260 rows x 4 columns]"
      ]
     },
     "execution_count": 545,
     "metadata": {},
     "output_type": "execute_result"
    }
   ],
   "source": [
    "ipc_union_m = pd.DataFrame(ipc_union.mean(1), columns = ['log_index'])\n",
    "fechanivel100 = ipc_union_m['2016-01'].values\n",
    "ipc_union_m = ipc_union_m - fechanivel100\n",
    "ipc_union_m['index'] = 100*10**ipc_union_m.log_index\n",
    "ipc_union_m['log_index_diff'] = ipc_union_m.log_index.diff(1)\n",
    "# ipc_union_m['pct_m'] = 100*ipc_union_m['index'].pct_change() # Sensible a ciertos errores numericos\n",
    "ipc_union_m['pct_m'] = mean_pct\n",
    "\n",
    "ipc_union_m"
   ]
  },
  {
   "cell_type": "code",
   "execution_count": 546,
   "metadata": {},
   "outputs": [
    {
     "data": {
      "image/png": "[encoded data removed]",
      "text/plain": [
       "<Figure size 864x432 with 1 Axes>"
      ]
     },
     "metadata": {
      "needs_background": "light"
     },
     "output_type": "display_data"
    }
   ],
   "source": [
    "fig, ax = plt.subplots(1, figsize = (12, 6))\n",
    "\n",
    "ax.set_title('Indice de Precios a Consumidor.\\n')\n",
    "ax.set_ylabel('IPC [log]')\n",
    "\n",
    "(ipc_union - fechanivel100[0][0]).plot(marker = '.', alpha = .2, ax = ax)\n",
    "ipc_union_m['log_index'].plot(color = 'k', lw = 1, ax = ax)\n",
    "# (ipc_union_m.pct_m).plot(color = 'k', lw = 1, ax = ax)\n",
    "\n",
    "plt.grid(True, color = '.8', linestyle = '--')\n",
    "ax.grid(which='minor', color='.8', linestyle=':', linewidth=0.5)\n",
    "ax.minorticks_on()\n",
    "plt.show()\n",
    "\n",
    "# offset"
   ]
  },
  {
   "cell_type": "code",
   "execution_count": 552,
   "metadata": {},
   "outputs": [
    {
     "data": {
      "image/png": "[encoded data removed]",
      "text/plain": [
       "<Figure size 864x432 with 1 Axes>"
      ]
     },
     "metadata": {
      "needs_background": "light"
     },
     "output_type": "display_data"
    }
   ],
   "source": [
    "fig, ax = plt.subplots(1, figsize = (12, 6))\n",
    "\n",
    "ax.set_title('Inflacion Mensual.\\nIndices provinciales e INDEC vs indice promedio.')\n",
    "ax.set_ylabel('Inflacion Mensual [%]')\n",
    "\n",
    "(100*(10**ipc_union).pct_change().replace(0, np.nan)).plot(marker = '.', alpha = .2, ax = ax)\n",
    "\n",
    "(ipc_union_m.pct_m).plot(color = 'k', lw = 1, ax = ax)\n",
    "\n",
    "plt.grid(True, color = '.8', linestyle = '--')\n",
    "ax.grid(which='minor', color='.8', linestyle=':', linewidth=0.5)\n",
    "ax.minorticks_on()\n",
    "plt.show()"
   ]
  },
  {
   "cell_type": "markdown",
   "metadata": {},
   "source": [
    "### Completo meses presente\n",
    "\n",
    "La inflacion en los meses del presente se estima como la de los ultimos 6 meses para los cuales hay informacion"
   ]
  },
  {
   "cell_type": "code",
   "execution_count": 430,
   "metadata": {},
   "outputs": [
    {
     "data": {
      "text/html": [
       "<div>\n",
       "<style scoped>\n",
       "    .dataframe tbody tr th:only-of-type {\n",
       "        vertical-align: middle;\n",
       "    }\n",
       "\n",
       "    .dataframe tbody tr th {\n",
       "        vertical-align: top;\n",
       "    }\n",
       "\n",
       "    .dataframe thead th {\n",
       "        text-align: right;\n",
       "    }\n",
       "</style>\n",
       "<table border=\"1\" class=\"dataframe\">\n",
       "  <thead>\n",
       "    <tr style=\"text-align: right;\">\n",
       "      <th></th>\n",
       "      <th>log_index</th>\n",
       "      <th>index</th>\n",
       "      <th>log_index_diff</th>\n",
       "      <th>pct_m</th>\n",
       "    </tr>\n",
       "  </thead>\n",
       "  <tbody>\n",
       "    <tr>\n",
       "      <th>2021-05-01</th>\n",
       "      <td>0.783635</td>\n",
       "      <td>607.624378</td>\n",
       "      <td>0.014945</td>\n",
       "      <td>3.501263</td>\n",
       "    </tr>\n",
       "    <tr>\n",
       "      <th>2021-06-01</th>\n",
       "      <td>0.797621</td>\n",
       "      <td>627.510133</td>\n",
       "      <td>0.013986</td>\n",
       "      <td>3.272739</td>\n",
       "    </tr>\n",
       "    <tr>\n",
       "      <th>2021-07-01</th>\n",
       "      <td>0.809464</td>\n",
       "      <td>644.858448</td>\n",
       "      <td>0.011844</td>\n",
       "      <td>2.764838</td>\n",
       "    </tr>\n",
       "    <tr>\n",
       "      <th>2021-08-01</th>\n",
       "      <td>0.827616</td>\n",
       "      <td>672.381583</td>\n",
       "      <td>0.018151</td>\n",
       "      <td>2.401827</td>\n",
       "    </tr>\n",
       "    <tr>\n",
       "      <th>2021-09-01</th>\n",
       "      <td>0.843175</td>\n",
       "      <td>694.825556</td>\n",
       "      <td>0.015559</td>\n",
       "      <td>3.337981</td>\n",
       "    </tr>\n",
       "    <tr>\n",
       "      <th>2021-10-01</th>\n",
       "      <td>0.858733</td>\n",
       "      <td>718.018703</td>\n",
       "      <td>0.015559</td>\n",
       "      <td>3.337981</td>\n",
       "    </tr>\n",
       "    <tr>\n",
       "      <th>2021-11-01</th>\n",
       "      <td>0.874292</td>\n",
       "      <td>741.986034</td>\n",
       "      <td>0.015559</td>\n",
       "      <td>3.337981</td>\n",
       "    </tr>\n",
       "    <tr>\n",
       "      <th>2021-12-01</th>\n",
       "      <td>0.889851</td>\n",
       "      <td>766.753390</td>\n",
       "      <td>0.015559</td>\n",
       "      <td>3.337981</td>\n",
       "    </tr>\n",
       "    <tr>\n",
       "      <th>2022-01-01</th>\n",
       "      <td>0.905409</td>\n",
       "      <td>792.347476</td>\n",
       "      <td>0.015559</td>\n",
       "      <td>3.337981</td>\n",
       "    </tr>\n",
       "    <tr>\n",
       "      <th>2022-02-01</th>\n",
       "      <td>0.920968</td>\n",
       "      <td>818.795887</td>\n",
       "      <td>0.015559</td>\n",
       "      <td>3.337981</td>\n",
       "    </tr>\n",
       "  </tbody>\n",
       "</table>\n",
       "</div>"
      ],
      "text/plain": [
       "            log_index       index  log_index_diff     pct_m\n",
       "2021-05-01   0.783635  607.624378        0.014945  3.501263\n",
       "2021-06-01   0.797621  627.510133        0.013986  3.272739\n",
       "2021-07-01   0.809464  644.858448        0.011844  2.764838\n",
       "2021-08-01   0.827616  672.381583        0.018151  2.401827\n",
       "2021-09-01   0.843175  694.825556        0.015559  3.337981\n",
       "2021-10-01   0.858733  718.018703        0.015559  3.337981\n",
       "2021-11-01   0.874292  741.986034        0.015559  3.337981\n",
       "2021-12-01   0.889851  766.753390        0.015559  3.337981\n",
       "2022-01-01   0.905409  792.347476        0.015559  3.337981\n",
       "2022-02-01   0.920968  818.795887        0.015559  3.337981"
      ]
     },
     "execution_count": 430,
     "metadata": {},
     "output_type": "execute_result"
    }
   ],
   "source": [
    "ipc_tail = ipc_union_m.tail(6)\n",
    "tail_mean = ipc_tail.mean()\n",
    "\n",
    "meses_presente = pd.date_range(ipc_union_m.index[-1], \n",
    "              ipc_union_m.index[-1] + pd.DateOffset(months=6), freq = 'M') + pd.DateOffset(days=1)\n",
    "\n",
    "ipc_union_m_ = ipc_union_m.reindex(ipc_union.index.append(meses_presente))\n",
    "\n",
    "ipc_union_m_.iloc[-6:, 2] = tail_mean['log_index_diff']\n",
    "ipc_union_m_.iloc[-6:, 3] = tail_mean['pct_m']\n",
    "\n",
    "ipc_union_m_.iloc[-6:, 0] = ipc_union_m['log_index'].values[-1] + ipc_union_m_.tail(6)['log_index_diff'].cumsum().values\n",
    "ipc_union_m_.iloc[-6:, 1] = ipc_union_m['index'].values[-1] * (1 + ipc_union_m_.tail(6)['pct_m']/100).cumprod().values\n",
    "\n",
    "ipc_union_m_.tail(10)"
   ]
  },
  {
   "cell_type": "markdown",
   "metadata": {},
   "source": [
    "### Resampleo a frecuencia diaria y a frecuencia trimestral.\n",
    "\n",
    "Posibilidad de guardar los resultados."
   ]
  },
  {
   "cell_type": "code",
   "execution_count": 558,
   "metadata": {},
   "outputs": [
    {
     "data": {
      "text/html": [
       "<div>\n",
       "<style scoped>\n",
       "    .dataframe tbody tr th:only-of-type {\n",
       "        vertical-align: middle;\n",
       "    }\n",
       "\n",
       "    .dataframe tbody tr th {\n",
       "        vertical-align: top;\n",
       "    }\n",
       "\n",
       "    .dataframe thead th {\n",
       "        text-align: right;\n",
       "    }\n",
       "</style>\n",
       "<table border=\"1\" class=\"dataframe\">\n",
       "  <thead>\n",
       "    <tr style=\"text-align: right;\">\n",
       "      <th></th>\n",
       "      <th>log_index</th>\n",
       "      <th>index</th>\n",
       "    </tr>\n",
       "    <tr>\n",
       "      <th>d</th>\n",
       "      <th></th>\n",
       "      <th></th>\n",
       "    </tr>\n",
       "  </thead>\n",
       "  <tbody>\n",
       "    <tr>\n",
       "      <th>2022-01-28</th>\n",
       "      <td>0.918953</td>\n",
       "      <td>815.323634</td>\n",
       "    </tr>\n",
       "    <tr>\n",
       "      <th>2022-01-29</th>\n",
       "      <td>0.919457</td>\n",
       "      <td>816.190043</td>\n",
       "    </tr>\n",
       "    <tr>\n",
       "      <th>2022-01-30</th>\n",
       "      <td>0.919960</td>\n",
       "      <td>817.057555</td>\n",
       "    </tr>\n",
       "    <tr>\n",
       "      <th>2022-01-31</th>\n",
       "      <td>0.920464</td>\n",
       "      <td>817.926170</td>\n",
       "    </tr>\n",
       "    <tr>\n",
       "      <th>2022-02-01</th>\n",
       "      <td>0.920968</td>\n",
       "      <td>818.795887</td>\n",
       "    </tr>\n",
       "  </tbody>\n",
       "</table>\n",
       "</div>"
      ],
      "text/plain": [
       "            log_index       index\n",
       "d                                \n",
       "2022-01-28   0.918953  815.323634\n",
       "2022-01-29   0.919457  816.190043\n",
       "2022-01-30   0.919960  817.057555\n",
       "2022-01-31   0.920464  817.926170\n",
       "2022-02-01   0.920968  818.795887"
      ]
     },
     "metadata": {},
     "output_type": "display_data"
    },
    {
     "data": {
      "text/html": [
       "<div>\n",
       "<style scoped>\n",
       "    .dataframe tbody tr th:only-of-type {\n",
       "        vertical-align: middle;\n",
       "    }\n",
       "\n",
       "    .dataframe tbody tr th {\n",
       "        vertical-align: top;\n",
       "    }\n",
       "\n",
       "    .dataframe thead th {\n",
       "        text-align: right;\n",
       "    }\n",
       "</style>\n",
       "<table border=\"1\" class=\"dataframe\">\n",
       "  <thead>\n",
       "    <tr style=\"text-align: right;\">\n",
       "      <th></th>\n",
       "      <th>index</th>\n",
       "    </tr>\n",
       "    <tr>\n",
       "      <th>Q</th>\n",
       "      <th></th>\n",
       "    </tr>\n",
       "  </thead>\n",
       "  <tbody>\n",
       "    <tr>\n",
       "      <th>2021-02-15</th>\n",
       "      <td>543.785245</td>\n",
       "    </tr>\n",
       "    <tr>\n",
       "      <th>2021-05-15</th>\n",
       "      <td>607.401669</td>\n",
       "    </tr>\n",
       "    <tr>\n",
       "      <th>2021-08-14</th>\n",
       "      <td>670.688529</td>\n",
       "    </tr>\n",
       "    <tr>\n",
       "      <th>2021-11-15</th>\n",
       "      <td>742.252709</td>\n",
       "    </tr>\n",
       "    <tr>\n",
       "      <th>2022-02-15</th>\n",
       "      <td>805.571682</td>\n",
       "    </tr>\n",
       "  </tbody>\n",
       "</table>\n",
       "</div>"
      ],
      "text/plain": [
       "                 index\n",
       "Q                     \n",
       "2021-02-15  543.785245\n",
       "2021-05-15  607.401669\n",
       "2021-08-14  670.688529\n",
       "2021-11-15  742.252709\n",
       "2022-02-15  805.571682"
      ]
     },
     "metadata": {},
     "output_type": "display_data"
    }
   ],
   "source": [
    "## Indice de precios Diario (Interpolador cuadratico)\n",
    "ipc_diario = ipc_union_m_[['log_index', 'index']].resample('1d').interpolate('quadratic')\n",
    "ipc_diario = ipc_diario.dropna()\n",
    "ipc_diario.index.name = 'd'\n",
    "ipc_diario.to_csv('./../data/info/indice_precios_d.csv')\n",
    "display(ipc_diario.tail())\n",
    "\n",
    "## Indice de precios Mensual\n",
    "ipc_union_m_.to_csv('./../data/info/indice_precios_M.csv')\n",
    "\n",
    "## Indice de precios Trimestral\n",
    "ipc_ = ipc_union_m_.groupby(pd.Grouper(freq='Q')).mean().loc['2000':][['index']]#.to_csv(...)\n",
    "\n",
    "### Convenciones para fijar fecha de trimestre.\n",
    "ipc_.index = ipc_.index - pd.DateOffset(months=2) + pd.to_timedelta(15, unit='d') \n",
    "ipc_.index.name = 'Q'\n",
    "ipc_.to_csv('./../data/info/indice_precios_Q.csv')\n",
    "display(ipc_.tail())"
   ]
  },
  {
   "cell_type": "markdown",
   "metadata": {},
   "source": [
    "## Inflacion anual acumulada\n",
    "\n",
    "Lineas verticales indicando diciembre de 2001 y mandatos presidenciales."
   ]
  },
  {
   "cell_type": "code",
   "execution_count": 554,
   "metadata": {},
   "outputs": [
    {
     "data": {
      "image/png": "[encoded data removed]",
      "text/plain": [
       "<Figure size 720x360 with 1 Axes>"
      ]
     },
     "metadata": {
      "needs_background": "light"
     },
     "output_type": "display_data"
    }
   ],
   "source": [
    "# display(ipc_diario['2021'].head())\n",
    "rolling_anual = 100*(-1 + ipc_diario/ipc_diario.shift(365))['index'].dropna()\n",
    "\n",
    "fig, ax = plt.subplots(1, figsize = (10, 5))\n",
    "\n",
    "ax.set_title('Inflacion ultimo año.')\n",
    "ax.set_ylabel('Cambio de precios ultimos 365 dias. [%]')\n",
    "\n",
    "rolling_anual.plot(ax = ax)\n",
    "\n",
    "ax.axvline('2001-12', color = '.5', lw = 1)\n",
    "ax.axvline('2003-05', color = 'k', lw = 1)\n",
    "ax.axvline('2007-12', color = 'k', lw = 1)\n",
    "ax.axvline('2011-12', color = '.5', lw = 1)\n",
    "ax.axvline('2015-12', color = 'k', lw = 1)\n",
    "ax.axvline('2019-12', color = 'k', lw = 1)\n",
    "\n",
    "plt.grid(True, color = '.8', linestyle = '--')\n",
    "ax.grid(which='minor', color='.8', linestyle=':', linewidth=0.5)\n",
    "ax.minorticks_on()\n",
    "plt.show()"
   ]
  },
  {
   "cell_type": "markdown",
   "metadata": {},
   "source": [
    "## Tipo de Cambio"
   ]
  },
  {
   "cell_type": "code",
   "execution_count": null,
   "metadata": {},
   "outputs": [],
   "source": [
    "import requests"
   ]
  },
  {
   "cell_type": "code",
   "execution_count": 29,
   "metadata": {},
   "outputs": [
    {
     "data": {
      "text/html": [
       "<div>\n",
       "<style scoped>\n",
       "    .dataframe tbody tr th:only-of-type {\n",
       "        vertical-align: middle;\n",
       "    }\n",
       "\n",
       "    .dataframe tbody tr th {\n",
       "        vertical-align: top;\n",
       "    }\n",
       "\n",
       "    .dataframe thead th {\n",
       "        text-align: right;\n",
       "    }\n",
       "</style>\n",
       "<table border=\"1\" class=\"dataframe\">\n",
       "  <thead>\n",
       "    <tr style=\"text-align: right;\">\n",
       "      <th></th>\n",
       "      <th>tipo_cambio_a3500</th>\n",
       "    </tr>\n",
       "    <tr>\n",
       "      <th>indice_tiempo</th>\n",
       "      <th></th>\n",
       "    </tr>\n",
       "  </thead>\n",
       "  <tbody>\n",
       "    <tr>\n",
       "      <th>2021-01-15</th>\n",
       "      <td>85.845861</td>\n",
       "    </tr>\n",
       "    <tr>\n",
       "      <th>2021-02-15</th>\n",
       "      <td>88.723921</td>\n",
       "    </tr>\n",
       "    <tr>\n",
       "      <th>2021-03-15</th>\n",
       "      <td>91.095058</td>\n",
       "    </tr>\n",
       "    <tr>\n",
       "      <th>2021-04-15</th>\n",
       "      <td>92.729677</td>\n",
       "    </tr>\n",
       "    <tr>\n",
       "      <th>2021-05-15</th>\n",
       "      <td>94.099952</td>\n",
       "    </tr>\n",
       "  </tbody>\n",
       "</table>\n",
       "</div>"
      ],
      "text/plain": [
       "               tipo_cambio_a3500\n",
       "indice_tiempo                   \n",
       "2021-01-15             85.845861\n",
       "2021-02-15             88.723921\n",
       "2021-03-15             91.095058\n",
       "2021-04-15             92.729677\n",
       "2021-05-15             94.099952"
      ]
     },
     "execution_count": 29,
     "metadata": {},
     "output_type": "execute_result"
    }
   ],
   "source": [
    "## Cargar fuente Indec para IPC post 2015\n",
    "### Descargar info actualizada en ipc_b201612_mensual.csv\n",
    "# csv_url = 'https://infra.datos.gob.ar/catalog/sspm/dataset/145/distribution/145.3/download/indice-precios-al-consumidor-nivel-general-base-diciembre-2016-mensual.csv'\n",
    "csv_url = 'https://infra.datos.gob.ar/catalog/sspm/dataset/168/distribution/168.1/download/datos-tipo-cambio-usd-futuro-dolar-frecuencia-diaria.csv'\n",
    "req = requests.get(csv_url)\n",
    "csv_file = open('./../data/info/tcambiousd_diario.csv', 'wb')\n",
    "csv_file.write(req.content)\n",
    "csv_file.close()\n",
    "\n",
    "\n",
    "## Usar archivo\n",
    "usd = pd.read_csv('./../data/info/tcambiousd_diario.csv',\n",
    "                 usecols = ['indice_tiempo','tipo_cambio_a3500']\n",
    "                 ).set_index('indice_tiempo').astype(float)\n",
    "\n",
    "usd.index = pd.to_datetime(usd.index, format='%Y-%m-%d')\n",
    "usd = usd.loc['2003':]\n",
    "usd = usd.groupby(pd.Grouper(level = 0, freq = 'M')).mean()\n",
    "usd.index = usd.index + pd.offsets.MonthEnd(-1) + pd.offsets.Day(15)\n",
    "usd.tail()"
   ]
  },
  {
   "cell_type": "code",
   "execution_count": 30,
   "metadata": {},
   "outputs": [
    {
     "name": "stdout",
     "output_type": "stream",
     "text": [
      "0.027680096840586515\n"
     ]
    },
    {
     "name": "stderr",
     "output_type": "stream",
     "text": [
      "<ipython-input-30-2afa7c65227c>:7: FutureWarning: The pandas.datetime class is deprecated and will be removed from pandas in a future version. Import from datetime module instead.\n",
      "  pd.datetime.today() + pd.DateOffset(months=6), freq = 'M') + pd.DateOffset(days=15)\n"
     ]
    }
   ],
   "source": [
    "## Tasa de inflacion de los ultimos 12 meses. Se usa para completar la inflacion del ultimo mes antes que se mida.\n",
    "r = usd.pct_change().tail(6).mean()[0]\n",
    "print(r)\n",
    "\n",
    "## Estirar la serie de CPI hasta el dia de hoy (para precios actualizados)\n",
    "meses_presente = pd.date_range(usd.index[-1], \n",
    "              pd.datetime.today() + pd.DateOffset(months=6), freq = 'M') + pd.DateOffset(days=15)\n",
    "\n",
    "usd = pd.concat([usd, pd.DataFrame([], index = meses_presente)])\n",
    "\n",
    "last_valid_ix = usd.dropna().iloc[-1] # Level of the cpi index in last valid month\n",
    "\n",
    "usd['avg_rate'] = pd.Series((1 + r)**range(len(usd)), index = usd.index)  ## Compute the exponential curve\n",
    "\n",
    "# Bring to actual level\n",
    "ratio = usd.loc[last_valid_ix.name].avg_rate / usd.loc[last_valid_ix.name]['tipo_cambio_a3500'] \n",
    "usd['avg_rate'] = usd['avg_rate']/ratio  \n",
    "\n",
    "# Complete cpi series up to present and remove exponential\n",
    "usd['tipo_cambio_a3500'] = usd['tipo_cambio_a3500'].fillna(usd['avg_rate'])\n",
    "usd = usd.drop('avg_rate', axis = 1)\n"
   ]
  },
  {
   "cell_type": "code",
   "execution_count": 31,
   "metadata": {},
   "outputs": [
    {
     "data": {
      "text/plain": [
       "<AxesSubplot:>"
      ]
     },
     "execution_count": 31,
     "metadata": {},
     "output_type": "execute_result"
    },
    {
     "data": {
      "image/png": "[encoded data removed]",
      "text/plain": [
       "<Figure size 432x288 with 1 Axes>"
      ]
     },
     "metadata": {
      "needs_background": "light"
     },
     "output_type": "display_data"
    }
   ],
   "source": [
    "# usd.rolling(30).mean().plot() #legend = False\n",
    "usd.plot() #legend = False"
   ]
  },
  {
   "cell_type": "code",
   "execution_count": 32,
   "metadata": {},
   "outputs": [
    {
     "data": {
      "text/html": [
       "<div>\n",
       "<style scoped>\n",
       "    .dataframe tbody tr th:only-of-type {\n",
       "        vertical-align: middle;\n",
       "    }\n",
       "\n",
       "    .dataframe tbody tr th {\n",
       "        vertical-align: top;\n",
       "    }\n",
       "\n",
       "    .dataframe thead th {\n",
       "        text-align: right;\n",
       "    }\n",
       "</style>\n",
       "<table border=\"1\" class=\"dataframe\">\n",
       "  <thead>\n",
       "    <tr style=\"text-align: right;\">\n",
       "      <th></th>\n",
       "      <th>tipo_cambio_a3500</th>\n",
       "    </tr>\n",
       "    <tr>\n",
       "      <th>Q</th>\n",
       "      <th></th>\n",
       "    </tr>\n",
       "  </thead>\n",
       "  <tbody>\n",
       "    <tr>\n",
       "      <th>2021-02-15</th>\n",
       "      <td>88.554947</td>\n",
       "    </tr>\n",
       "    <tr>\n",
       "      <th>2021-05-15</th>\n",
       "      <td>94.511425</td>\n",
       "    </tr>\n",
       "    <tr>\n",
       "      <th>2021-08-15</th>\n",
       "      <td>102.157711</td>\n",
       "    </tr>\n",
       "    <tr>\n",
       "      <th>2021-11-15</th>\n",
       "      <td>110.877899</td>\n",
       "    </tr>\n",
       "    <tr>\n",
       "      <th>2022-02-15</th>\n",
       "      <td>118.692262</td>\n",
       "    </tr>\n",
       "  </tbody>\n",
       "</table>\n",
       "</div>"
      ],
      "text/plain": [
       "            tipo_cambio_a3500\n",
       "Q                            \n",
       "2021-02-15          88.554947\n",
       "2021-05-15          94.511425\n",
       "2021-08-15         102.157711\n",
       "2021-11-15         110.877899\n",
       "2022-02-15         118.692262"
      ]
     },
     "execution_count": 32,
     "metadata": {},
     "output_type": "execute_result"
    }
   ],
   "source": [
    "usd = usd.groupby(pd.Grouper(level = 0, freq = 'Q')).mean()\n",
    "usd.index = usd.index + pd.offsets.MonthEnd(-2) + pd.offsets.Day(15)\n",
    "usd.index.name = 'Q'\n",
    "usd.tail()"
   ]
  },
  {
   "cell_type": "code",
   "execution_count": 33,
   "metadata": {},
   "outputs": [],
   "source": [
    "usd.to_csv('./../data/info/ARS_USD_Q.csv')"
   ]
  },
  {
   "cell_type": "markdown",
   "metadata": {},
   "source": [
    "## Poder de Compra (PPP)"
   ]
  },
  {
   "cell_type": "code",
   "execution_count": 5,
   "metadata": {
    "scrolled": true
   },
   "outputs": [
    {
     "data": {
      "text/html": [
       "<div>\n",
       "<style scoped>\n",
       "    .dataframe tbody tr th:only-of-type {\n",
       "        vertical-align: middle;\n",
       "    }\n",
       "\n",
       "    .dataframe tbody tr th {\n",
       "        vertical-align: top;\n",
       "    }\n",
       "\n",
       "    .dataframe thead th {\n",
       "        text-align: right;\n",
       "    }\n",
       "</style>\n",
       "<table border=\"1\" class=\"dataframe\">\n",
       "  <thead>\n",
       "    <tr style=\"text-align: right;\">\n",
       "      <th></th>\n",
       "      <th>Value</th>\n",
       "    </tr>\n",
       "    <tr>\n",
       "      <th>TIME</th>\n",
       "      <th></th>\n",
       "    </tr>\n",
       "  </thead>\n",
       "  <tbody>\n",
       "    <tr>\n",
       "      <th>2016-07-01</th>\n",
       "      <td>9.294966</td>\n",
       "    </tr>\n",
       "    <tr>\n",
       "      <th>2017-07-01</th>\n",
       "      <td>10.256822</td>\n",
       "    </tr>\n",
       "    <tr>\n",
       "      <th>2018-07-01</th>\n",
       "      <td>14.024082</td>\n",
       "    </tr>\n",
       "    <tr>\n",
       "      <th>2019-07-01</th>\n",
       "      <td>20.752961</td>\n",
       "    </tr>\n",
       "    <tr>\n",
       "      <th>2020-07-01</th>\n",
       "      <td>28.673797</td>\n",
       "    </tr>\n",
       "  </tbody>\n",
       "</table>\n",
       "</div>"
      ],
      "text/plain": [
       "                Value\n",
       "TIME                 \n",
       "2016-07-01   9.294966\n",
       "2017-07-01  10.256822\n",
       "2018-07-01  14.024082\n",
       "2019-07-01  20.752961\n",
       "2020-07-01  28.673797"
      ]
     },
     "execution_count": 5,
     "metadata": {},
     "output_type": "execute_result"
    }
   ],
   "source": [
    "csv_url = 'https://stats.oecd.org/sdmx-json/data/DP_LIVE/.PPP.../OECD?contentType=csv&detail=code&separator=comma&csv-lang=en'\n",
    "req = requests.get(csv_url)\n",
    "csv_file = open('./../data/info/ex_PPP.csv', 'wb')\n",
    "csv_file.write(req.content)\n",
    "csv_file.close()\n",
    "\n",
    "## Usar archivo\n",
    "ppp = pd.read_csv('./../data/info/ex_PPP.csv')\n",
    "ppp = ppp.loc[ppp.LOCATION == 'ARG'][['TIME', 'Value']].set_index('TIME').astype(float)\n",
    "\n",
    "\n",
    "ppp.index = pd.to_datetime(ppp.index, format='%Y')\n",
    "ppp = ppp.loc['2003':]\n",
    "# ppp = ppp.groupby(pd.Grouper(level = 0, freq = 'M')).mean()\n",
    "ppp.index = ppp.index + pd.DateOffset(months=6)\n",
    "ppp.tail()"
   ]
  },
  {
   "cell_type": "code",
   "execution_count": 6,
   "metadata": {},
   "outputs": [
    {
     "name": "stdout",
     "output_type": "stream",
     "text": [
      "0.32422972585025006\n"
     ]
    },
    {
     "data": {
      "text/html": [
       "<div>\n",
       "<style scoped>\n",
       "    .dataframe tbody tr th:only-of-type {\n",
       "        vertical-align: middle;\n",
       "    }\n",
       "\n",
       "    .dataframe tbody tr th {\n",
       "        vertical-align: top;\n",
       "    }\n",
       "\n",
       "    .dataframe thead th {\n",
       "        text-align: right;\n",
       "    }\n",
       "</style>\n",
       "<table border=\"1\" class=\"dataframe\">\n",
       "  <thead>\n",
       "    <tr style=\"text-align: right;\">\n",
       "      <th></th>\n",
       "      <th>Value</th>\n",
       "    </tr>\n",
       "  </thead>\n",
       "  <tbody>\n",
       "    <tr>\n",
       "      <th>2018-07-01</th>\n",
       "      <td>14.024082</td>\n",
       "    </tr>\n",
       "    <tr>\n",
       "      <th>2019-07-01</th>\n",
       "      <td>20.752961</td>\n",
       "    </tr>\n",
       "    <tr>\n",
       "      <th>2020-07-01</th>\n",
       "      <td>28.673797</td>\n",
       "    </tr>\n",
       "    <tr>\n",
       "      <th>2021-07-01</th>\n",
       "      <td>37.970694</td>\n",
       "    </tr>\n",
       "    <tr>\n",
       "      <th>2022-07-01</th>\n",
       "      <td>50.281922</td>\n",
       "    </tr>\n",
       "  </tbody>\n",
       "</table>\n",
       "</div>"
      ],
      "text/plain": [
       "                Value\n",
       "2018-07-01  14.024082\n",
       "2019-07-01  20.752961\n",
       "2020-07-01  28.673797\n",
       "2021-07-01  37.970694\n",
       "2022-07-01  50.281922"
      ]
     },
     "execution_count": 6,
     "metadata": {},
     "output_type": "execute_result"
    }
   ],
   "source": [
    "## Tasa de inflacion de los ultimos 12 meses. Se usa para completar la inflacion del ultimo mes antes que se mida.\n",
    "tseries = ppp\n",
    "r = tseries.pct_change().tail(6).mean()[0]\n",
    "print(r)\n",
    "\n",
    "## Estirar la serie de CPI hasta el dia de hoy (para precios actualizados)\n",
    "cur_end = tseries.index[-1]\n",
    "new_end = tseries.index[-1] + pd.DateOffset(years = 2)\n",
    "anos_presente = pd.date_range(cur_end, new_end, freq = 'Y') + pd.DateOffset(months = 6, days = 1)\n",
    "\n",
    "tseries = pd.concat([tseries, pd.DataFrame([], index = anos_presente)])\n",
    "\n",
    "last_valid_ix = tseries.dropna().iloc[-1] # Level of the cpi index in last valid month\n",
    "\n",
    "tseries['avg_rate'] = pd.Series((1 + r)**range(len(tseries)), index = tseries.index)  ## Compute the exponential curve\n",
    "\n",
    "# Bring to actual level\n",
    "ratio = tseries.loc[last_valid_ix.name].avg_rate / tseries.loc[last_valid_ix.name]['Value'] \n",
    "tseries['avg_rate'] = tseries['avg_rate']/ratio  \n",
    "\n",
    "# Complete cpi series up to present and remove exponential\n",
    "tseries['Value'] = tseries['Value'].fillna(tseries['avg_rate'])\n",
    "tseries = tseries.drop('avg_rate', axis = 1)\n",
    "\n",
    "ppp = tseries\n",
    "ppp.tail()"
   ]
  },
  {
   "cell_type": "code",
   "execution_count": 7,
   "metadata": {},
   "outputs": [],
   "source": [
    "# # ## Conversor PPP\n",
    "# # PA.NUS.PPP\n",
    "# # PPP conversion factor, GDP (LCU per international $)\n",
    "# # Purchasing power parity (PPP) conversion factor is a spatial price deflator and currency converter \n",
    "# # that controls for price level differences between countries, thereby allowing volume comparisons of\n",
    "# # gross domestic product (GDP) and its expenditure components. This conversion factor is for GDP.\t\n",
    "# # International Comparison Program, World Bank | World Development Indicators database, World Bank | \n",
    "# # Eurostat-OECD PPP Programme.\n",
    "\n",
    "    \n",
    "# csv_url = 'https://api.worldbank.org/v2/en/indicator/PA.NUS.PPP?downloadformat=csv'\n",
    "# req = requests.get(csv_url)\n",
    "# csv_file = open('./../data/info/PA_PPP.zip', 'wb')\n",
    "# csv_file.write(req.content)\n",
    "# csv_file.close()\n",
    "\n",
    "# import zipfile\n",
    "# zf = zipfile.ZipFile('./../data/info/PA_PPP.zip', 'r')\n",
    "# ppp = pd.read_csv(zf.open('API_PA.NUS.PPP_DS2_en_csv_v2_2708557.csv'), skiprows = 4, index_col=[0, 1, 2, 3])\n",
    "# ppp = ppp.loc['Argentina'].T.dropna().pct_change()\n",
    "# ppp.columns = ['ARG_PA_PPP']\n",
    "\n",
    "# ## Extend to current times\n",
    "# mn_ppp = ppp.tail(3).mean()\n",
    "# _2021 = pd.DataFrame(mn_ppp, columns = ['2021'], index = ['ARG_PA_PPP']).T\n",
    "# _2022 = pd.DataFrame(mn_ppp, columns = ['2022'], index = ['ARG_PA_PPP']).T\n",
    "# ppp = ppp.append(_2021).append(_2022)\n",
    "\n",
    "# ppp.index = pd.to_datetime(ppp.index)\n",
    "# ppp.index = ppp.index + pd.DateOffset(months=6)# + pd.offsets.MonthEnd(-1) + pd.offsets.Day(15)\n",
    "# ppp.index.name = 'Q'\n",
    "\n",
    "# ppp.tail()"
   ]
  },
  {
   "cell_type": "code",
   "execution_count": 8,
   "metadata": {},
   "outputs": [
    {
     "data": {
      "text/html": [
       "<div>\n",
       "<style scoped>\n",
       "    .dataframe tbody tr th:only-of-type {\n",
       "        vertical-align: middle;\n",
       "    }\n",
       "\n",
       "    .dataframe tbody tr th {\n",
       "        vertical-align: top;\n",
       "    }\n",
       "\n",
       "    .dataframe thead th {\n",
       "        text-align: right;\n",
       "    }\n",
       "</style>\n",
       "<table border=\"1\" class=\"dataframe\">\n",
       "  <thead>\n",
       "    <tr style=\"text-align: right;\">\n",
       "      <th></th>\n",
       "      <th>Value</th>\n",
       "    </tr>\n",
       "  </thead>\n",
       "  <tbody>\n",
       "    <tr>\n",
       "      <th>2022-03-15</th>\n",
       "      <td>46.334365</td>\n",
       "    </tr>\n",
       "    <tr>\n",
       "      <th>2022-04-15</th>\n",
       "      <td>47.431127</td>\n",
       "    </tr>\n",
       "    <tr>\n",
       "      <th>2022-05-15</th>\n",
       "      <td>48.550894</td>\n",
       "    </tr>\n",
       "    <tr>\n",
       "      <th>2022-06-15</th>\n",
       "      <td>49.693417</td>\n",
       "    </tr>\n",
       "    <tr>\n",
       "      <th>2022-07-15</th>\n",
       "      <td>50.281922</td>\n",
       "    </tr>\n",
       "  </tbody>\n",
       "</table>\n",
       "</div>"
      ],
      "text/plain": [
       "                Value\n",
       "2022-03-15  46.334365\n",
       "2022-04-15  47.431127\n",
       "2022-05-15  48.550894\n",
       "2022-06-15  49.693417\n",
       "2022-07-15  50.281922"
      ]
     },
     "execution_count": 8,
     "metadata": {},
     "output_type": "execute_result"
    }
   ],
   "source": [
    "ppp = ppp.resample('d').mean().interpolate(method = 'quadratic')#.plot()\n",
    "ppp = ppp.loc['2003':]\n",
    "ppp = ppp.groupby(pd.Grouper(level = 0, freq = 'M')).mean()\n",
    "ppp.index = ppp.index + pd.offsets.MonthEnd(-1) + pd.offsets.Day(15)\n",
    "ppp.tail()"
   ]
  },
  {
   "cell_type": "code",
   "execution_count": 9,
   "metadata": {},
   "outputs": [
    {
     "data": {
      "text/html": [
       "<div>\n",
       "<style scoped>\n",
       "    .dataframe tbody tr th:only-of-type {\n",
       "        vertical-align: middle;\n",
       "    }\n",
       "\n",
       "    .dataframe tbody tr th {\n",
       "        vertical-align: top;\n",
       "    }\n",
       "\n",
       "    .dataframe thead th {\n",
       "        text-align: right;\n",
       "    }\n",
       "</style>\n",
       "<table border=\"1\" class=\"dataframe\">\n",
       "  <thead>\n",
       "    <tr style=\"text-align: right;\">\n",
       "      <th></th>\n",
       "      <th>Value</th>\n",
       "    </tr>\n",
       "    <tr>\n",
       "      <th>Q</th>\n",
       "      <th></th>\n",
       "    </tr>\n",
       "  </thead>\n",
       "  <tbody>\n",
       "    <tr>\n",
       "      <th>2021-08-15</th>\n",
       "      <td>39.345440</td>\n",
       "    </tr>\n",
       "    <tr>\n",
       "      <th>2021-11-15</th>\n",
       "      <td>42.232381</td>\n",
       "    </tr>\n",
       "    <tr>\n",
       "      <th>2022-02-15</th>\n",
       "      <td>45.302343</td>\n",
       "    </tr>\n",
       "    <tr>\n",
       "      <th>2022-05-15</th>\n",
       "      <td>48.558479</td>\n",
       "    </tr>\n",
       "    <tr>\n",
       "      <th>2022-08-15</th>\n",
       "      <td>50.281922</td>\n",
       "    </tr>\n",
       "  </tbody>\n",
       "</table>\n",
       "</div>"
      ],
      "text/plain": [
       "                Value\n",
       "Q                    \n",
       "2021-08-15  39.345440\n",
       "2021-11-15  42.232381\n",
       "2022-02-15  45.302343\n",
       "2022-05-15  48.558479\n",
       "2022-08-15  50.281922"
      ]
     },
     "execution_count": 9,
     "metadata": {},
     "output_type": "execute_result"
    }
   ],
   "source": [
    "ppp = ppp.groupby(pd.Grouper(level = 0, freq = 'Q')).mean()\n",
    "ppp.index = ppp.index + pd.offsets.MonthEnd(-2) + pd.offsets.Day(15)\n",
    "ppp.index.name = 'Q'\n",
    "ppp.tail()"
   ]
  },
  {
   "cell_type": "code",
   "execution_count": 25,
   "metadata": {},
   "outputs": [
    {
     "data": {
      "text/plain": [
       "<AxesSubplot:xlabel='Q'>"
      ]
     },
     "execution_count": 25,
     "metadata": {},
     "output_type": "execute_result"
    },
    {
     "data": {
      "image/png": "[encoded data removed]",
      "text/plain": [
       "<Figure size 432x288 with 1 Axes>"
      ]
     },
     "metadata": {
      "needs_background": "light"
     },
     "output_type": "display_data"
    }
   ],
   "source": [
    "ppp.plot(marker = '.')"
   ]
  },
  {
   "cell_type": "code",
   "execution_count": 10,
   "metadata": {},
   "outputs": [],
   "source": [
    "ppp.to_csv('./../data/info/ARG_PPP_Q.csv')"
   ]
  },
  {
   "cell_type": "code",
   "execution_count": null,
   "metadata": {},
   "outputs": [],
   "source": []
  }
 ],
 "metadata": {
  "kernelspec": {
   "display_name": "Python 3",
   "language": "python",
   "name": "python3"
  },
  "language_info": {
   "codemirror_mode": {
    "name": "ipython",
    "version": 3
   },
   "file_extension": ".py",
   "mimetype": "text/x-python",
   "name": "python",
   "nbconvert_exporter": "python",
   "pygments_lexer": "ipython3",
   "version": "3.8.5"
  }
 },
 "nbformat": 4,
 "nbformat_minor": 2
}
